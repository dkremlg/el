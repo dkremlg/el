{
 "cells": [
  {
   "cell_type": "code",
   "execution_count": 1,
   "metadata": {},
   "outputs": [],
   "source": [
    "import os\n",
    "\n",
    "import datetime\n",
    "\n",
    "import numpy as np\n",
    "import pandas as pd\n",
    "\n",
    "from pandas import Series\n",
    "from pandas import DataFrame\n",
    "\n",
    "from scipy.stats import poisson\n",
    "\n",
    "import matplotlib.pyplot as plt"
   ]
  },
  {
   "cell_type": "code",
   "execution_count": 2,
   "metadata": {},
   "outputs": [],
   "source": [
    "data_folder='~/Data/Intermediate_Output'"
   ]
  },
  {
   "cell_type": "code",
   "execution_count": 3,
   "metadata": {},
   "outputs": [],
   "source": [
    "C=70\n",
    "downweight=0.8"
   ]
  },
  {
   "cell_type": "code",
   "execution_count": 4,
   "metadata": {},
   "outputs": [],
   "source": [
    "downweight_granularity=['dtime','Direction','dday','month']"
   ]
  },
  {
   "cell_type": "markdown",
   "metadata": {},
   "source": [
    "# Data-based downweight factor"
   ]
  },
  {
   "cell_type": "code",
   "execution_count": 5,
   "metadata": {},
   "outputs": [],
   "source": [
    "C_datadriven=pd.read_csv('~/Data/Intermediate_Output/R_Training_Pax.csv')\n",
    "C_datadriven=C_datadriven.groupby(['DepDate']+downweight_granularity)['NumPax'].sum().reset_index()\n",
    "C_datadriven=C_datadriven.groupby(downweight_granularity)['NumPax'].max().reset_index().rename(columns={'NumPax': 'downweight'})\n",
    "C_datadriven['downweight']=C_datadriven['downweight'].astype('float')/C\n",
    "C_datadriven['downweight']=C_datadriven['downweight'].apply(lambda x: downweight if x>downweight else x)\n",
    "# C_datadriven['downweight']=downweight\n",
    "\n",
    "C_datadriven['C']=C\n",
    "C_datadriven['C_downweighted']=C*C_datadriven['downweight']\n",
    "\n",
    "C_datadriven=C_datadriven[[x for x in C_datadriven.columns if x!='downweight']]"
   ]
  },
  {
   "cell_type": "markdown",
   "metadata": {},
   "source": [
    "# Predicted data"
   ]
  },
  {
   "cell_type": "code",
   "execution_count": 6,
   "metadata": {},
   "outputs": [],
   "source": [
    "Prediction_pax=pd.read_csv('~/Data/Intermediate_Output/R_Output_Training_Pax.csv',sep=',')"
   ]
  },
  {
   "cell_type": "code",
   "execution_count": 7,
   "metadata": {},
   "outputs": [],
   "source": [
    "Prediction_pax=Prediction_pax[['Dprio']+downweight_granularity+['forecast_bookings']]\\\n",
    ".drop_duplicates(subset=['Dprio']+downweight_granularity)\n",
    "Prediction_pax.index=range(Prediction_pax.shape[0])\n",
    "\n",
    "Prediction_revenue=pd.read_csv('~/Data/Intermediate_Output/R_Output_Training_Revenue.csv',sep=',')\n",
    "Prediction_revenue=Prediction_revenue.rename(columns={'forecast_bookings': 'forecast_revenue'})\n",
    "Prediction_revenue=Prediction_revenue[['Dprio']+downweight_granularity+['forecast_revenue']]\\\n",
    ".drop_duplicates(subset=['Dprio']+downweight_granularity)\n",
    "Prediction_revenue.index=range(Prediction_revenue.shape[0])\n",
    "\n",
    "Prediction_pax=Prediction_pax.sort_values(by=downweight_granularity+['Dprio'])\n",
    "Prediction_revenue=Prediction_revenue.sort_values(by=downweight_granularity+['Dprio'])\n",
    "\n",
    "Prediction=pd.concat([Prediction_pax[[x for x in Prediction_pax.columns if x!='NumPax' and x!='forecast_node']],\n",
    "                      Prediction_revenue['forecast_revenue']],axis=1)\n",
    "\n",
    "Prediction['forecast_yield']=Prediction['forecast_revenue']/Prediction['forecast_bookings']\n",
    "\n",
    "Prediction.index=range(Prediction.shape[0])"
   ]
  },
  {
   "cell_type": "markdown",
   "metadata": {},
   "source": [
    "### Cumulations "
   ]
  },
  {
   "cell_type": "code",
   "execution_count": 8,
   "metadata": {},
   "outputs": [],
   "source": [
    "Prediction=Prediction.set_index(['Dprio']+downweight_granularity)\n",
    "\n",
    "Intermediate_forecast_bookings=Prediction.groupby(level=[0]+[x for x in range(1,len(downweight_granularity)+1)]).sum()\\\n",
    ".groupby(level=[x for x in range(1,len(downweight_granularity)+1)])['forecast_bookings'].cumsum().reset_index()\n",
    "Intermediate_forecast_bookings=Intermediate_forecast_bookings.rename(columns={'forecast_bookings': 'forecast_bookings_intermediate'})\n",
    "\n",
    "Intermediate_forecast_revenue=Prediction.groupby(level=[0]+[x for x in range(1,len(downweight_granularity)+1)]).sum()\\\n",
    ".groupby(level=[x for x in range(1,len(downweight_granularity)+1)])['forecast_revenue'].cumsum().reset_index()\n",
    "Intermediate_forecast_revenue=Intermediate_forecast_revenue.rename(columns={'forecast_revenue': 'forecast_revenue_intermediate'})\n",
    "\n",
    "Prediction=Prediction.reset_index()\n",
    "Prediction['Dprio']=-Prediction['Dprio']\n",
    "Prediction=Prediction.set_index(['Dprio']+downweight_granularity)\n",
    "\n",
    "Cumulation_forecast_bookings=Prediction.groupby(level=[0]+[x for x in range(1,len(downweight_granularity)+1)]).sum()\\\n",
    ".groupby(level=[x for x in range(1,len(downweight_granularity)+1)])['forecast_bookings'].cumsum().reset_index()\n",
    "Cumulation_forecast_bookings['Dprio']=-Cumulation_forecast_bookings['Dprio']\n",
    "\n",
    "Cumulation_forecast_revenue=Prediction.groupby(level=[0]+[x for x in range(1,len(downweight_granularity)+1)]).sum()\\\n",
    ".groupby(level=[x for x in range(1,len(downweight_granularity)+1)])['forecast_revenue'].cumsum().reset_index()\n",
    "Cumulation_forecast_revenue['Dprio']=-Cumulation_forecast_revenue['Dprio']\n",
    "\n",
    "Cumulation_forecast=Cumulation_forecast_bookings.merge(Cumulation_forecast_revenue,on=['Dprio']+downweight_granularity)\n",
    "Cumulation_forecast=Cumulation_forecast.merge(Intermediate_forecast_bookings,on=['Dprio']+downweight_granularity)\n",
    "Cumulation_forecast=Cumulation_forecast.merge(Intermediate_forecast_revenue,on=['Dprio']+downweight_granularity)\n",
    "\n",
    "Prediction=Prediction.reset_index()\n",
    "Prediction['Dprio']=-Prediction['Dprio']"
   ]
  },
  {
   "cell_type": "code",
   "execution_count": 9,
   "metadata": {},
   "outputs": [
    {
     "name": "stderr",
     "output_type": "stream",
     "text": [
      "/home/ubuntu/project-python/.venv/lib/python3.6/site-packages/ipykernel_launcher.py:4: SettingWithCopyWarning: \n",
      "A value is trying to be set on a copy of a slice from a DataFrame.\n",
      "Try using .loc[row_indexer,col_indexer] = value instead\n",
      "\n",
      "See the caveats in the documentation: http://pandas.pydata.org/pandas-docs/stable/indexing.html#indexing-view-versus-copy\n",
      "  after removing the cwd from sys.path.\n",
      "/home/ubuntu/project-python/.venv/lib/python3.6/site-packages/ipykernel_launcher.py:5: SettingWithCopyWarning: \n",
      "A value is trying to be set on a copy of a slice from a DataFrame.\n",
      "Try using .loc[row_indexer,col_indexer] = value instead\n",
      "\n",
      "See the caveats in the documentation: http://pandas.pydata.org/pandas-docs/stable/indexing.html#indexing-view-versus-copy\n",
      "  \"\"\"\n"
     ]
    }
   ],
   "source": [
    "Cumulation_forecast_365only=Cumulation_forecast.loc[Cumulation_forecast['Dprio']==365,:]\n",
    "Cumulation_forecast_365only.index=range(Cumulation_forecast_365only.shape[0])\n",
    "\n",
    "Cumulation_forecast_365only['TotalRevenue_over365_full']=C*(Cumulation_forecast_365only['forecast_revenue_intermediate']/Cumulation_forecast_365only['forecast_bookings_intermediate'])\n",
    "Cumulation_forecast_365only['TotalRevenue_over365_downweighted']=C*downweight*(Cumulation_forecast_365only['forecast_revenue_intermediate']/Cumulation_forecast_365only['forecast_bookings_intermediate'])\n",
    "\n",
    "Cumulation_forecast_365only=Cumulation_forecast_365only[downweight_granularity+['TotalRevenue_over365_full','TotalRevenue_over365_downweighted']]"
   ]
  },
  {
   "cell_type": "markdown",
   "metadata": {},
   "source": [
    "# Actual booking and revenue figures"
   ]
  },
  {
   "cell_type": "code",
   "execution_count": 10,
   "metadata": {},
   "outputs": [],
   "source": [
    "ActualBookings=pd.read_csv('~/Data/Intermediate_Output/R_Test_Pax.csv')\n",
    "ActualBookings=ActualBookings[['DepDate','Dprio']+downweight_granularity+['NumPax']]\n",
    "ActualBookings['Dprio']=-ActualBookings['Dprio']\n",
    "ActualBookings=ActualBookings.set_index(['Dprio']+downweight_granularity+['DepDate'])\n",
    "ActualBookings=ActualBookings.groupby(level=[0]+[x for x in range(1,len(downweight_granularity)+1)]+[len(downweight_granularity)+1]).sum()\\\n",
    ".groupby(level=[x for x in range(1,len(downweight_granularity)+1)]+[len(downweight_granularity)+1])['NumPax'].cumsum().reset_index()\n",
    "ActualBookings['Dprio']=-ActualBookings['Dprio']"
   ]
  },
  {
   "cell_type": "code",
   "execution_count": 11,
   "metadata": {},
   "outputs": [],
   "source": [
    "ActualRevenue=pd.read_csv('~/Data/Intermediate_Output/R_Test_Revenue.csv')\n",
    "ActualRevenue=ActualRevenue[['DepDate','Dprio']+downweight_granularity+['Coupons+YQ on current bookings']]\n",
    "ActualRevenue['Dprio']=-ActualRevenue['Dprio']\n",
    "ActualRevenue=ActualRevenue.set_index(['Dprio']+downweight_granularity+['DepDate'])\n",
    "ActualRevenue=ActualRevenue.groupby(level=[0]+[x for x in range(1,len(downweight_granularity)+1)]+[len(downweight_granularity)+1]).sum()\\\n",
    ".groupby(level=[x for x in range(1,len(downweight_granularity)+1)]+[len(downweight_granularity)+1])['Coupons+YQ on current bookings'].cumsum().reset_index()\n",
    "ActualRevenue['Dprio']=-ActualRevenue['Dprio']"
   ]
  },
  {
   "cell_type": "code",
   "execution_count": 12,
   "metadata": {},
   "outputs": [],
   "source": [
    "Data=ActualBookings.merge(ActualRevenue,on=['DepDate','Dprio']+downweight_granularity)\n",
    "Data=Data.merge(C_datadriven,on=downweight_granularity)\n",
    "Data=Data.merge(Cumulation_forecast,on=['Dprio']+downweight_granularity)\n",
    "Data=Data.merge(Cumulation_forecast_365only,on=downweight_granularity)\n",
    "IdealCurve=pd.read_csv(data_folder+'/IdealCurve.csv')\n",
    "Data=Data.merge(IdealCurve,on=['Dprio']+downweight_granularity)"
   ]
  },
  {
   "cell_type": "code",
   "execution_count": 13,
   "metadata": {},
   "outputs": [],
   "source": [
    "Data['NumPax_Remaining_full']=Data[['NumPax','Ideal_average_full']].apply(lambda x:max(x),axis=1)\n",
    "Data['NumPax_Remaining_downweighted']=Data[['NumPax','Ideal_average_downweighted']].apply(lambda x:max(x),axis=1)\n",
    "Data['expected_revenue_actual_full']=((Data['C']-Data['NumPax_Remaining_full'])*(Data['forecast_revenue_intermediate']/Data['forecast_bookings_intermediate']))\\\n",
    "+Data['Coupons+YQ on current bookings']\n",
    "Data['expected_revenue_actual_downweighted']=((Data['C_downweighted']-Data['NumPax_Remaining_downweighted'])*(Data['forecast_revenue_intermediate']/Data['forecast_bookings_intermediate']))\\\n",
    "+Data['Coupons+YQ on current bookings']"
   ]
  },
  {
   "cell_type": "code",
   "execution_count": 14,
   "metadata": {},
   "outputs": [],
   "source": [
    "Data=Data[['Dprio','DepDate']+downweight_granularity+['expected_revenue_actual_full',\n",
    "    'expected_revenue_actual_downweighted','TotalRevenue_over365_full','TotalRevenue_over365_downweighted']]\n",
    "Data=Data.rename(columns={'expected_revenue_actual_full': 'ActualRevenue_full', \n",
    "                          'expected_revenue_actual_downweighted': 'ActualRevenue_downweighted',\n",
    "                          'TotalRevenue_over365_full': 'TotalRevenue_full',\n",
    "                          'TotalRevenue_over365_downweighted': 'TotalRevenue_downweighted'})"
   ]
  },
  {
   "cell_type": "code",
   "execution_count": 15,
   "metadata": {},
   "outputs": [],
   "source": [
    "deptime=[str(x/60).split('.')[0]+':'+str(round(float('0.'+str(x/60).split('.')[1])*60)) for x in Data['dtime'].unique()]\n",
    "deptime=[x+'0' if len(x.split(':')[1])==1 else x for x in deptime]\n",
    "deptime=['0'+x if len(x.split(':')[0])==1 else x for x in deptime]\n",
    "\n",
    "Map_DepTime=DataFrame([Data['dtime'].unique(),[x+'0' if len(x.split(':')[1])==1 else x for x in deptime]]).transpose()\n",
    "Map_DepTime.columns=['dtime','deptime']\n",
    "Map_DepTime['dtime']=Map_DepTime['dtime'].astype('int')\n",
    "\n",
    "Data=Data.merge(Map_DepTime,on='dtime')\n",
    "\n",
    "Data['dtime']=Data['deptime']\n",
    "Data=Data[[x for x in Data.columns if x!='deptime']]"
   ]
  },
  {
   "cell_type": "code",
   "execution_count": 16,
   "metadata": {},
   "outputs": [],
   "source": [
    "Data['DepDate']=Data['DepDate'].apply(lambda x: pd.to_datetime(x))\n",
    "Data['IssueDate']=Data['DepDate']-Data['Dprio'].apply(lambda x: datetime.timedelta(x))\n",
    "Data=Data.loc[Data['IssueDate']<=pd.to_datetime(datetime.datetime.today().strftime('%Y-%m-%d')),:]\n",
    "Data=Data[[x for x in Data.columns if x!='IssueDate']]"
   ]
  },
  {
   "cell_type": "code",
   "execution_count": 17,
   "metadata": {},
   "outputs": [],
   "source": [
    "Data.to_csv('~/Data/FrontEnd_Input/GUI_in3.csv',index=False)"
   ]
  }
 ],
 "metadata": {
  "kernelspec": {
   "display_name": "Python 3",
   "language": "python",
   "name": "python3"
  },
  "language_info": {
   "codemirror_mode": {
    "name": "ipython",
    "version": 3
   },
   "file_extension": ".py",
   "mimetype": "text/x-python",
   "name": "python",
   "nbconvert_exporter": "python",
   "pygments_lexer": "ipython3",
   "version": "3.6.7"
  }
 },
 "nbformat": 4,
 "nbformat_minor": 2
}
