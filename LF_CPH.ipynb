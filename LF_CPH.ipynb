{
 "cells": [
  {
   "cell_type": "code",
   "execution_count": 456,
   "metadata": {},
   "outputs": [],
   "source": [
    "import os\n",
    "from os import environ\n",
    "\n",
    "import requests\n",
    "import io\n",
    "\n",
    "import datetime\n",
    "\n",
    "import numpy as np\n",
    "import pandas as pd\n",
    "\n",
    "from pandas import Series\n",
    "from pandas import DataFrame\n",
    "\n",
    "import matplotlib.pyplot as plt"
   ]
  },
  {
   "cell_type": "code",
   "execution_count": 457,
   "metadata": {},
   "outputs": [],
   "source": [
    "Bcg=pd.read_csv('C:/Users/35266/Documents/Python Scripts/el/Spoil upside calculation database with new RPK.csv',sep=';')\n",
    "\n",
    "Bcg=Bcg.loc[(Bcg['leg']=='CPH')&(Bcg['uplift_population']=='YES'),:]\n",
    "\n",
    "Bcg.index=range(Bcg.shape[0])\n",
    "\n",
    "Bcg=Bcg[['Departure Date','Flight Number','SEASON','Sum_ASK','Sum_RPK','New RPK']]\n",
    "\n",
    "Bcg['LF_old']=Bcg['Sum_RPK']/Bcg['Sum_ASK']\n",
    "Bcg['LF_new']=Bcg['New RPK']/Bcg['Sum_ASK']\n",
    "\n",
    "Bcg=Bcg[[x for x in Bcg.columns if 'ASK' not in x and 'RPK' not in x]]\n",
    "\n",
    "Bcg['Departure Date']=Bcg['Departure Date'].apply(lambda x: pd.to_datetime(x.split('.')[2]+'-'+x.split('.')[1]+'-'+x.split('.')[0]))\n",
    "\n",
    "Bcg['Month']=Bcg['Departure Date'].apply(lambda x: x.month)\n",
    "Bcg['Weekday']=Bcg['Departure Date'].apply(lambda x: x.weekday())\n",
    "\n",
    "Bcg=Bcg[[x for x in Bcg.columns if 'LF' not in x]+[x for x in Bcg.columns if 'LF' in x]]"
   ]
  },
  {
   "cell_type": "code",
   "execution_count": 458,
   "metadata": {},
   "outputs": [],
   "source": [
    "Bcg_Mean=Bcg.groupby(['Flight Number','Month','Weekday'])['LF_old'].mean().reset_index()\\\n",
    ".merge(Bcg.groupby(['Flight Number','Month','Weekday'])['LF_new'].mean().reset_index(),on=['Flight Number','Month','Weekday'])\\\n",
    ".rename(columns={'LF_old': 'LF_old_mean', 'LF_new': 'LF_new_mean'})\n",
    "\n",
    "Bcg_Var=Bcg.groupby(['Flight Number','Month','Weekday'])['LF_old'].var().reset_index()\\\n",
    ".merge(Bcg.groupby(['Flight Number','Month','Weekday'])['LF_new'].var().reset_index(),on=['Flight Number','Month','Weekday'])\\\n",
    ".rename(columns={'LF_old': 'LF_old_var', 'LF_new': 'LF_new_var'})\n",
    "\n",
    "Bcg_N=Bcg.groupby(['Flight Number','Month','Weekday'])['LF_old'].size().reset_index()\\\n",
    ".merge(Bcg.groupby(['Flight Number','Month','Weekday'])['LF_new'].size().reset_index(),on=['Flight Number','Month','Weekday'])\\\n",
    ".rename(columns={'LF_old': 'LF_old_n', 'LF_new': 'LF_new_n'})\n",
    "\n",
    "replace_value_old=np.mean(Bcg_Var['LF_old_var'])\n",
    "replace_value_new=np.mean(Bcg_Var['LF_new_var'])\n",
    "\n",
    "Bcg_Var['LF_old_var']=Bcg_Var['LF_old_var'].apply(lambda x: replace_value_old if pd.isnull(x) or x==0 else x)\n",
    "Bcg_Var['LF_new_var']=Bcg_Var['LF_new_var'].apply(lambda x: replace_value_new if pd.isnull(x) or x==0 else x)"
   ]
  },
  {
   "cell_type": "code",
   "execution_count": 459,
   "metadata": {},
   "outputs": [],
   "source": [
    "Raw=pd.concat([pd.read_csv('C:/Users/35266/Documents/Python Scripts/el/MAR18.csv',sep=';'),\n",
    "pd.read_csv('C:/Users/35266/Documents/Python Scripts/el/JUN18.csv',sep=';'),\n",
    "pd.read_csv('C:/Users/35266/Documents/Python Scripts/el/OCT18.csv',sep=';'),\n",
    "pd.read_csv('C:/Users/35266/Documents/Python Scripts/el/JAN19.csv',sep=';')])\n",
    "\n",
    "Raw['Calendar day']=Raw['Calendar day'].apply(lambda x: pd.to_datetime(x.split('/')[2]+'-'+x.split('/')[1]+'-'+x.split('/')[0]))\n",
    "Raw['LF_actual']=Raw['Load Factor'].apply(lambda x: float(x.replace(',','.').replace('%',''))/100)\n",
    "Raw['Direction']=Raw[['Sched Airport Depart','Sched Airport Arriva']].apply(lambda x: 'O' if x[0]=='LUX' and x[1]=='CPH' else 'I',axis=1)\n",
    "\n",
    "Raw=Raw.rename(columns={'Calendar day': 'Departure Date'})\n",
    "Raw=Raw[['Departure Date','Flight Number','Direction','LF_actual']]\n",
    "\n",
    "Raw['Month']=Raw['Departure Date'].apply(lambda x: x.month)\n",
    "Raw['Weekday']=Raw['Departure Date'].apply(lambda x: x.weekday())\n",
    "\n",
    "Raw=Raw[[x for x in Raw.columns if 'LF' not in x]+[x for x in Raw.columns if 'LF' in x]]"
   ]
  },
  {
   "cell_type": "code",
   "execution_count": 460,
   "metadata": {},
   "outputs": [],
   "source": [
    "Raw_Mean=Raw.groupby(['Flight Number','Month','Weekday'])['LF_actual'].mean().reset_index()\\\n",
    ".rename(columns={'LF_actual': 'LF_actual_mean'})\n",
    "Raw_Var=Raw.groupby(['Flight Number','Month','Weekday'])['LF_actual'].var().reset_index()\\\n",
    ".rename(columns={'LF_actual': 'LF_actual_var'})\n",
    "Raw_N=Raw.groupby(['Flight Number','Month','Weekday'])['LF_actual'].size().reset_index()\\\n",
    ".rename(columns={'LF_actual': 'LF_actual_n'})\n",
    "\n",
    "replace_value_actual=np.mean(Raw_Var['LF_actual_var'])\n",
    "\n",
    "Raw_Var['LF_actual_var']=Raw_Var['LF_actual_var'].apply(lambda x: replace_value_actual if pd.isnull(x) or x==0 else x)"
   ]
  },
  {
   "cell_type": "code",
   "execution_count": 461,
   "metadata": {},
   "outputs": [],
   "source": [
    "Data=Bcg_Mean.merge(Bcg_Var,on=['Flight Number','Month','Weekday'])\\\n",
    ".merge(Bcg_N,on=['Flight Number','Month','Weekday'])\\\n",
    ".merge(Raw_Mean,on=['Flight Number','Month','Weekday'])\\\n",
    ".merge(Raw_Var,on=['Flight Number','Month','Weekday'])\\\n",
    ".merge(Raw_N,on=['Flight Number','Month','Weekday'])"
   ]
  },
  {
   "cell_type": "code",
   "execution_count": 464,
   "metadata": {},
   "outputs": [],
   "source": [
    "# sorted(Data[['LF_actual_mean','LF_actual_var','LF_actual_n','LF_old_mean','LF_old_var','LF_old_n']]\\\n",
    "# .apply(lambda x: (x[0]-x[3])/np.sqrt((x[1]/x[2])+(x[4]/x[5])),axis=1))"
   ]
  },
  {
   "cell_type": "code",
   "execution_count": null,
   "metadata": {},
   "outputs": [],
   "source": []
  }
 ],
 "metadata": {
  "kernelspec": {
   "display_name": "Python 3",
   "language": "python",
   "name": "python3"
  },
  "language_info": {
   "codemirror_mode": {
    "name": "ipython",
    "version": 3
   },
   "file_extension": ".py",
   "mimetype": "text/x-python",
   "name": "python",
   "nbconvert_exporter": "python",
   "pygments_lexer": "ipython3",
   "version": "3.7.1"
  }
 },
 "nbformat": 4,
 "nbformat_minor": 2
}
