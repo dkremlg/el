{
 "cells": [
  {
   "cell_type": "code",
   "execution_count": 222,
   "metadata": {},
   "outputs": [],
   "source": [
    "import os\n",
    "from os import environ\n",
    "\n",
    "import requests\n",
    "import io\n",
    "import string\n",
    "\n",
    "import datetime\n",
    "\n",
    "import numpy as np\n",
    "import pandas as pd\n",
    "\n",
    "from pandas import Series\n",
    "from pandas import DataFrame\n",
    "\n",
    "import matplotlib.pyplot as plt\n",
    "import seaborn as sns\n",
    "from scipy.stats import norm\n",
    "\n",
    "import ipywidgets as widgets\n",
    "from ipywidgets import Layout, Box, HBox, VBox, Button\n",
    "from IPython.display import display, HTML\n",
    "from IPython.html.widgets import interactive"
   ]
  },
  {
   "cell_type": "code",
   "execution_count": 223,
   "metadata": {},
   "outputs": [],
   "source": [
    "Box_LF=pd.read_csv('GUI_in_LF.csv')\n",
    "Box_Revenue=pd.read_csv('GUI_in_Revenue.csv')"
   ]
  },
  {
   "cell_type": "code",
   "execution_count": 224,
   "metadata": {},
   "outputs": [],
   "source": [
    "Box_LF=pd.concat([Box_LF.loc[Box_LF['Sample']=='Actuals 2017-2018',:],\n",
    "                  Box_LF.loc[Box_LF['Sample']=='Actuals 2018-2019',:],\n",
    "                  Box_LF.loc[Box_LF['Sample']=='Model Bcg',:]])\n",
    "\n",
    "Box_Revenue=pd.concat([Box_Revenue.loc[Box_Revenue['Sample']=='Actuals 2017-2018',:],\n",
    "                  Box_Revenue.loc[Box_Revenue['Sample']=='Actuals 2018-2019',:],\n",
    "                  Box_Revenue.loc[Box_Revenue['Sample']=='Model Bcg',:]])"
   ]
  },
  {
   "cell_type": "code",
   "execution_count": 225,
   "metadata": {},
   "outputs": [
    {
     "data": {
      "text/html": [
       "<style>\n",
       ".output {\n",
       "    align-items: center;\n",
       "}\n",
       "</style>"
      ],
      "text/plain": [
       "<IPython.core.display.HTML object>"
      ]
     },
     "execution_count": 225,
     "metadata": {},
     "output_type": "execute_result"
    }
   ],
   "source": [
    "CSS = \"\"\"\n",
    ".output {\n",
    "    align-items: center;\n",
    "}\n",
    "\"\"\"\n",
    "\n",
    "HTML('<style>{}</style>'.format(CSS))"
   ]
  },
  {
   "cell_type": "code",
   "execution_count": 226,
   "metadata": {},
   "outputs": [],
   "source": [
    "dropdown_route=widgets.Dropdown(\n",
    "    options=['All','LUX-CPH', 'LUX-LCY', 'LUX-MAD', 'LUX-MXP', 'LUX-NCE', 'LUX-VIE'],\n",
    "    value='All',\n",
    "    description='Route:',\n",
    "    disabled=False,\n",
    ")\n",
    "\n",
    "dropdown_season=widgets.Dropdown(\n",
    "    options=['All','H', 'M','L'],\n",
    "    value='All',\n",
    "    description='Season:',\n",
    "    disabled=False,\n",
    ")\n",
    "\n",
    "dropdown_weekday=widgets.Dropdown(\n",
    "    options=['All',1,2,3,4,5,6,7],\n",
    "    value='All',\n",
    "    description='Weekday:',\n",
    "    disabled=False,\n",
    ")\n",
    "\n",
    "dropdown_fltnum=widgets.Dropdown(\n",
    "    options=['All']+sorted(Box_LF['Flight Number'].unique()),\n",
    "    value='All',\n",
    "    description='Flt.Num.:',\n",
    "    disabled=False,\n",
    ")"
   ]
  },
  {
   "cell_type": "code",
   "execution_count": 227,
   "metadata": {},
   "outputs": [],
   "source": [
    "def boxplot_lfrev(lf,rev):\n",
    "    fig= plt.figure(figsize=(14,10))\n",
    "    plt.subplot(1,2,1)\n",
    "    ax=sns.boxplot(x=\"Sample\", y=\"LF\",\n",
    "    data=lf, palette=\"Set3\",boxprops=dict(alpha=.2))\n",
    "    ax = sns.swarmplot(x=\"Sample\", y=\"LF\",\n",
    "    data=lf, palette=\"Set3\")\n",
    "    plt.title('Load Factor',fontsize=20,fontweight='bold')\n",
    "    plt.xlabel('')\n",
    "    plt.subplot(1,2,2)\n",
    "    bx=sns.boxplot(x=\"Sample\", y=\"Revenue\",\n",
    "    data=rev, palette=\"Set3\",boxprops=dict(alpha=.2))\n",
    "    bx = sns.swarmplot(x=\"Sample\", y=\"Revenue\",\n",
    "    data=rev, palette=\"Set3\")\n",
    "    plt.title('Revenue',fontsize=20,fontweight='bold')\n",
    "    plt.xlabel('')\n",
    "    plt.show()"
   ]
  },
  {
   "cell_type": "code",
   "execution_count": 228,
   "metadata": {},
   "outputs": [],
   "source": [
    "def view(v='', y='', z='', w=''):\n",
    "    \n",
    "    if y=='All' and z=='All' and w=='All' and v=='All':\n",
    "        \n",
    "        lf=Box_LF\n",
    "        rev=Box_Revenue\n",
    "        display(rev.groupby('Sample')['Revenue'].sum().reset_index().rename(columns={'Sample': ''}).set_index(''))\n",
    "        boxplot_lfrev(lf,rev)\n",
    "        \n",
    "    ##############            \n",
    "    elif y!='All' and z=='All' and w=='All' and v=='All':    \n",
    " \n",
    "        lf=Box_LF.loc[Box_LF['SEASON']==y,:]\n",
    "        rev=Box_Revenue.loc[Box_Revenue['SEASON']==y,:]\n",
    "        display(rev.groupby('Sample')['Revenue'].sum().reset_index().rename(columns={'Sample': ''}).set_index(''))\n",
    "        boxplot_lfrev(lf,rev)\n",
    "\n",
    "    elif y=='All' and z!='All' and w=='All' and v=='All':\n",
    "\n",
    "        lf=Box_LF.loc[Box_LF['Weekday']==z,:]\n",
    "        rev=Box_Revenue.loc[Box_Revenue['Weekday']==z,:]\n",
    "        display(rev.groupby('Sample')['Revenue'].sum().reset_index().rename(columns={'Sample': ''}).set_index(''))\n",
    "        boxplot_lfrev(lf,rev)       \n",
    "\n",
    "    elif y=='All' and z=='All' and w!='All' and v=='All':\n",
    "        \n",
    "        lf=Box_LF.loc[Box_LF['Flight Number']==w,:]\n",
    "        rev=Box_Revenue.loc[Box_Revenue['Flight Number']==w,:]\n",
    "        display(rev.groupby('Sample')['Revenue'].sum().reset_index().rename(columns={'Sample': ''}).set_index(''))\n",
    "        boxplot_lfrev(lf,rev)        \n",
    "        \n",
    "    elif y=='All' and z=='All' and w=='All' and v!='All':\n",
    "        \n",
    "        lf=Box_LF.loc[Box_LF['Route']==v,:]\n",
    "        rev=Box_Revenue.loc[Box_Revenue['Route']==v,:]\n",
    "        display(rev.groupby('Sample')['Revenue'].sum().reset_index().rename(columns={'Sample': ''}).set_index(''))\n",
    "        boxplot_lfrev(lf,rev)                \n",
    "        \n",
    "    ##############    \n",
    "    elif y!='All' and z!='All' and w=='All' and v=='All':\n",
    "        \n",
    "        lf=Box_LF.loc[(Box_LF['Weekday']==z)&(Box_LF['SEASON']==y),:]\n",
    "        rev=Box_Revenue.loc[(Box_Revenue['Weekday']==z)&(Box_Revenue['SEASON']==y),:]\n",
    "        display(rev.groupby('Sample')['Revenue'].sum().reset_index().rename(columns={'Sample': ''}).set_index(''))\n",
    "        boxplot_lfrev(lf,rev)               \n",
    "        \n",
    "    elif y!='All' and z=='All' and w!='All' and v=='All':\n",
    "        \n",
    "        lf=Box_LF.loc[(Box_LF['SEASON']==y)&(Box_LF['Flight Number']==w),:]\n",
    "        rev=Box_Revenue.loc[(Box_Revenue['SEASON']==y)&(Box_Revenue['Flight Number']==w),:]\n",
    "        display(rev.groupby('Sample')['Revenue'].sum().reset_index().rename(columns={'Sample': ''}).set_index(''))\n",
    "        boxplot_lfrev(lf,rev)              \n",
    "        \n",
    "    elif y!='All' and z=='All' and w=='All' and v!='All':\n",
    "\n",
    "        lf=Box_LF.loc[(Box_LF['SEASON']==y)&(Box_LF['Route']==v),:]\n",
    "        rev=Box_Revenue.loc[(Box_Revenue['SEASON']==y)&(Box_Revenue['Route']==v),:]\n",
    "        display(rev.groupby('Sample')['Revenue'].sum().reset_index().rename(columns={'Sample': ''}).set_index(''))\n",
    "        boxplot_lfrev(lf,rev)         \n",
    "        \n",
    "    elif y=='All' and z!='All' and w!='All' and v=='All':\n",
    "\n",
    "        lf=Box_LF.loc[(Box_LF['Weekday']==z)&(Box_LF['Flight Number']==w),:]\n",
    "        rev=Box_Revenue.loc[(Box_Revenue['Weekday']==z)&(Box_Revenue['Flight Number']==w),:]\n",
    "        display(rev.groupby('Sample')['Revenue'].sum().reset_index().rename(columns={'Sample': ''}).set_index(''))\n",
    "        boxplot_lfrev(lf,rev)           \n",
    "        \n",
    "    elif y=='All' and z!='All' and w=='All' and v!='All':\n",
    "\n",
    "        lf=Box_LF.loc[(Box_LF['Weekday']==z)&(Box_LF['Route']==v),:]\n",
    "        rev=Box_Revenue.loc[(Box_Revenue['Weekday']==z)&(Box_Revenue['Route']==v),:]\n",
    "        display(rev.groupby('Sample')['Revenue'].sum().reset_index().rename(columns={'Sample': ''}).set_index(''))\n",
    "        boxplot_lfrev(lf,rev)         \n",
    "        \n",
    "    elif y=='All' and z=='All' and w!='All' and v!='All':\n",
    "\n",
    "        lf=Box_LF.loc[(Box_LF['Flight Number']==w)&(Box_LF['Route']==v),:]\n",
    "        rev=Box_Revenue.loc[(Box_Revenue['Flight Number']==w)&(Box_Revenue['Route']==v),:]\n",
    "        display(rev.groupby('Sample')['Revenue'].sum().reset_index().rename(columns={'Sample': ''}).set_index(''))\n",
    "        boxplot_lfrev(lf,rev)          \n",
    "    \n",
    "    elif y!='All' and z!='All' and w!='All' and v=='All':\n",
    "\n",
    "        lf=Box_LF.loc[(Box_LF['SEASON']==y)&(Box_LF['Weekday']==z)&(Box_LF['Fligth Number']==w),:]\n",
    "        rev=Box_Revenue.loc[(Box_LF['SEASON']==y)&(Box_LF['Weekday']==z)&(Box_LF['Fligth Number']==w),:]\n",
    "        display(rev.groupby('Sample')['Revenue'].sum().reset_index().rename(columns={'Sample': ''}).set_index(''))\n",
    "        boxplot_lfrev(lf,rev)  \n",
    "\n",
    "    elif y!='All' and z!='All' and w=='All' and v!='All':\n",
    "\n",
    "        lf=Box_LF.loc[(Box_LF['SEASON']==y)&(Box_LF['Weekday']==z)&(Box_LF['Route']==v),:]\n",
    "        rev=Box_Revenue.loc[(Box_LF['SEASON']==y)&(Box_LF['Weekday']==z)&(Box_LF['Route']==v),:]\n",
    "        display(rev.groupby('Sample')['Revenue'].sum().reset_index().rename(columns={'Sample': ''}).set_index(''))\n",
    "        boxplot_lfrev(lf,rev)        \n",
    "        \n",
    "    elif y!='All' and z=='All' and w!='All' and v!='All':\n",
    "\n",
    "        lf=Box_LF.loc[(Box_LF['SEASON']==y)&(Box_LF['Fligth Number']==w)&(Box_LF['Route']==v),:]\n",
    "        rev=Box_Revenue.loc[(Box_LF['SEASON']==y)&(Box_LF['Fligth Number']==w)&(Box_LF['Route']==v),:]\n",
    "        display(rev.groupby('Sample')['Revenue'].sum().reset_index().rename(columns={'Sample': ''}).set_index(''))\n",
    "        boxplot_lfrev(lf,rev)         \n",
    "        \n",
    "    elif y=='All' and z!='All' and w!='All' and v!='All':\n",
    "\n",
    "        lf=Box_LF.loc[(Box_LF['Weekday']==z)&(Box_LF['Fligth Number']==w)&(Box_LF['Route']==v),:]\n",
    "        rev=Box_Revenue.loc[(Box_LF['Weekday']==z)&(Box_LF['Fligth Number']==w)&(Box_LF['Route']==v),:]\n",
    "        display(rev.groupby('Sample')['Revenue'].sum().reset_index().rename(columns={'Sample': ''}).set_index(''))\n",
    "        boxplot_lfrev(lf,rev)          "
   ]
  },
  {
   "cell_type": "code",
   "execution_count": 229,
   "metadata": {},
   "outputs": [
    {
     "data": {
      "application/vnd.jupyter.widget-view+json": {
       "model_id": "07822af50d9047b9861bdd8ce6f1c976",
       "version_major": 2,
       "version_minor": 0
      },
      "text/plain": [
       "interactive(children=(Dropdown(description='Route:', options=('All', 'LUX-CPH', 'LUX-LCY', 'LUX-MAD', 'LUX-MXP…"
      ]
     },
     "metadata": {},
     "output_type": "display_data"
    }
   ],
   "source": [
    "display(interactive(view,v=dropdown_route,y=dropdown_season,z=dropdown_weekday,w=dropdown_fltnum))"
   ]
  },
  {
   "cell_type": "code",
   "execution_count": null,
   "metadata": {},
   "outputs": [],
   "source": []
  }
 ],
 "metadata": {
  "kernelspec": {
   "display_name": "Python 3",
   "language": "python",
   "name": "python3"
  },
  "language_info": {
   "codemirror_mode": {
    "name": "ipython",
    "version": 3
   },
   "file_extension": ".py",
   "mimetype": "text/x-python",
   "name": "python",
   "nbconvert_exporter": "python",
   "pygments_lexer": "ipython3",
   "version": "3.7.1"
  }
 },
 "nbformat": 4,
 "nbformat_minor": 2
}
