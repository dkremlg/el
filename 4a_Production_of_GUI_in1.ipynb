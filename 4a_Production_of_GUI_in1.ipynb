{
 "cells": [
  {
   "cell_type": "code",
   "execution_count": 33,
   "metadata": {},
   "outputs": [],
   "source": [
    "import os\n",
    "\n",
    "import datetime\n",
    "\n",
    "import numpy as np\n",
    "import pandas as pd\n",
    "\n",
    "from pandas import Series\n",
    "from pandas import DataFrame\n",
    "\n",
    "from scipy.stats import norm\n",
    "\n",
    "import matplotlib.pyplot as plt"
   ]
  },
  {
   "cell_type": "code",
   "execution_count": 34,
   "metadata": {},
   "outputs": [],
   "source": [
    "downweight_granularity=['FltNum','dtime','Direction','dday','month']"
   ]
  },
  {
   "cell_type": "markdown",
   "metadata": {},
   "source": [
    "# Data Import"
   ]
  },
  {
   "cell_type": "code",
   "execution_count": 35,
   "metadata": {},
   "outputs": [],
   "source": [
    "#Data=pd.read_csv('~/Data/Intermediate_Output/R_Output_Test_Pax.csv',sep=',')\n",
    "Data=pd.read_csv('R_Output_Test_Pax.csv',sep=',')\n",
    "Data=Data[['DepDate','FltNum','yday','dtime','Direction','month','dday','Dprio','NumPax']]\n",
    "\n",
    "Map_Dates=DataFrame([Data['DepDate'].unique().tolist(),[pd.to_datetime(x) for x in Data['DepDate'].unique().tolist()]]).transpose()\n",
    "Map_Dates.columns=['DepDate','DepDate_dt']\n",
    "Map_Dates['DepDate']=Map_Dates['DepDate'].astype('str')\n",
    "\n",
    "Data=Data.merge(Map_Dates,on=['DepDate'])\n",
    "Data['DepDate']=Data['DepDate_dt']\n",
    "Data=Data[[x for x in Data.columns if x!='DepDate_dt']]\n",
    "\n",
    "Data['TicketDate']=Data['DepDate']-Data['Dprio'].apply(lambda x: datetime.timedelta(x))\n",
    "\n",
    "Data=Data.loc[Data['TicketDate']<=pd.to_datetime(datetime.datetime.today().strftime('%Y-%m-%d')),:]\n",
    "\n",
    "Data=Data[[x for x in Data.columns if x!='TicketDate']]\n",
    "\n",
    "Data['Dprio']=-Data['Dprio']\n",
    "Data=Data.set_index(['DepDate','FltNum','yday','dtime','Direction','month','dday','Dprio'])\n",
    "Data=Data.groupby(level=[0,1,2,3,4,5,6,7]).sum().groupby(level=[0,1,2,3,4,5,6])['NumPax'].cumsum().reset_index()\n",
    "\n",
    "Data['Dprio']=-Data['Dprio']"
   ]
  },
  {
   "cell_type": "code",
   "execution_count": 13,
   "metadata": {},
   "outputs": [],
   "source": [
    "#IdealCurve=pd.read_csv('~/Data/Intermediate_Output/IdealCurve.csv')\n",
    "IdealCurve=pd.read_csv('IdealCurve.csv')"
   ]
  },
  {
   "cell_type": "code",
   "execution_count": 14,
   "metadata": {},
   "outputs": [],
   "source": [
    "Dropdown_comb=Data[['DepDate']+downweight_granularity].drop_duplicates()\n",
    "Dropdown_comb.index=range(Dropdown_comb.shape[0])\n",
    "Dprio_all=Data['Dprio'].unique().tolist()\n",
    "\n",
    "Dropdown_comb=Dropdown_comb.loc[np.repeat(Dropdown_comb.index,len(Dprio_all)),:]\n",
    "Dropdown_comb.index=range(Dropdown_comb.shape[0])\n",
    "\n",
    "Dropdown_comb=pd.concat([Dropdown_comb,Series(Dprio_all*Dropdown_comb.drop_duplicates().shape[0])],axis=1)\n",
    "Dropdown_comb=Dropdown_comb.rename(columns={0: 'Dprio'})\n",
    "\n",
    "Dropdown_comb=Dropdown_comb.merge(IdealCurve,on=downweight_granularity+['Dprio'])"
   ]
  },
  {
   "cell_type": "code",
   "execution_count": 15,
   "metadata": {},
   "outputs": [],
   "source": [
    "Dropdown_comb=Dropdown_comb.rename(columns={'Ideal_lower': 'Ramp-up frontier',\n",
    "'Ideal_average_downweighted': 'Ideal curve (80% LF)', 'Ideal_average_full': 'Ideal curve (100% LF)',\n",
    "'Ideal_upper': 'Phase-down frontier'})\n",
    "\n",
    "#Dropdown_comb.to_csv('~/Data/FrontEnd_Input/IdealCurve_forPlots.csv',index=False)\n",
    "Dropdown_comb.to_csv('IdealCurve_forPlots.csv',index=False)"
   ]
  },
  {
   "cell_type": "code",
   "execution_count": 16,
   "metadata": {},
   "outputs": [],
   "source": [
    "#Dropdown_comb.loc[Dropdown_comb['DepDate']=='2019-06-29',:]"
   ]
  },
  {
   "cell_type": "code",
   "execution_count": 17,
   "metadata": {},
   "outputs": [],
   "source": [
    "# Data=Data[['DepDate','dtime','Direction','dday','Dprio','NumPax','Ideal_lower','Ideal_average_downweighted','Ideal_average_full','Ideal_upper']]\\\n",
    "# .sort_values(by=['DepDate','Direction','dtime','Dprio'])"
   ]
  },
  {
   "cell_type": "code",
   "execution_count": 18,
   "metadata": {},
   "outputs": [],
   "source": [
    "Data['NumPax']=Data['NumPax'].apply(lambda x: int(round(x)))"
   ]
  },
  {
   "cell_type": "code",
   "execution_count": 19,
   "metadata": {},
   "outputs": [],
   "source": [
    "deptime=[str(x/60).split('.')[0]+':'+str(round(float('0.'+str(x/60).split('.')[1])*60)) for x in Data['dtime'].unique()]\n",
    "deptime=[x+'0' if len(x.split(':')[1])==1 else x for x in deptime]\n",
    "deptime=['0'+x if len(x.split(':')[0])==1 else x for x in deptime]\n",
    "\n",
    "Map_DepTime=DataFrame([Data['dtime'].unique(),[x+'0' if len(x.split(':')[1])==1 else x for x in deptime]]).transpose()\n",
    "Map_DepTime.columns=['dtime','deptime']\n",
    "Map_DepTime['dtime']=Map_DepTime['dtime'].astype('int')\n",
    "\n",
    "Data=Data.merge(Map_DepTime,on='dtime')\n",
    "\n",
    "Data['dtime']=Data['deptime']\n",
    "Data=Data[[x for x in Data.columns if x!='deptime']]"
   ]
  },
  {
   "cell_type": "code",
   "execution_count": 20,
   "metadata": {},
   "outputs": [],
   "source": [
    "Data=Data.sort_values(by=['DepDate','dtime'])\n",
    "Data=Data.rename(columns={'NumPax': 'Actual Bookings'})"
   ]
  },
  {
   "cell_type": "code",
   "execution_count": 21,
   "metadata": {},
   "outputs": [],
   "source": [
    "#GroupPax=pd.read_csv('~/Data/Intermediate_Output/GroupPax.csv').rename(columns={'Group pax': 'Group Pax'})\n",
    "GroupPax=pd.read_csv('GroupPax.csv').rename(columns={'Group pax': 'Group Pax'})\n",
    "\n",
    "GroupPax['DepDate']=pd.to_datetime(GroupPax['DepDate'])\n",
    "GroupPax['dtime']=GroupPax['dtime'].astype('str')\n",
    "GroupPax['Dprio']=GroupPax['Dprio'].astype('float')\n",
    "\n",
    "Data=Data.merge(GroupPax[['DepDate','dtime','Dprio','Group Pax']],on=['DepDate','dtime','Dprio'])"
   ]
  },
  {
   "cell_type": "code",
   "execution_count": 22,
   "metadata": {},
   "outputs": [],
   "source": [
    "# Capacity=pd.read_csv(data_folder+'/Capacity.csv')\n",
    "\n",
    "# Capacity['DepDate']=pd.to_datetime(Capacity['DepDate'])\n",
    "# Capacity['dtime']=Capacity['dtime'].astype('str')\n",
    "# Capacity['Dprio']=Capacity['Dprio'].astype('float')\n",
    "\n",
    "# Data=Data.merge(Capacity[['DepDate','dtime','Dprio','Cabin Capacity']],on=['DepDate','dtime','Dprio'])"
   ]
  },
  {
   "cell_type": "code",
   "execution_count": 23,
   "metadata": {},
   "outputs": [],
   "source": [
    "#Data=Data.to_csv('~/Data/FrontEnd_Input/GUI_in.csv',index=False)\n",
    "Data=Data.to_csv('GUI_in.csv',index=False)"
   ]
  }
 ],
 "metadata": {
  "kernelspec": {
   "display_name": "Python 3",
   "language": "python",
   "name": "python3"
  },
  "language_info": {
   "codemirror_mode": {
    "name": "ipython",
    "version": 3
   },
   "file_extension": ".py",
   "mimetype": "text/x-python",
   "name": "python",
   "nbconvert_exporter": "python",
   "pygments_lexer": "ipython3",
   "version": "3.7.1"
  }
 },
 "nbformat": 4,
 "nbformat_minor": 2
}
