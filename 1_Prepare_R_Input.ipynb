{
 "cells": [
  {
   "cell_type": "code",
   "execution_count": 14,
   "metadata": {},
   "outputs": [],
   "source": [
    "import os\n",
    "from os import environ\n",
    "\n",
    "import requests\n",
    "import io\n",
    "\n",
    "import datetime\n",
    "\n",
    "import numpy as np\n",
    "import pandas as pd\n",
    "\n",
    "from pandas import Series\n",
    "from pandas import DataFrame\n",
    "\n",
    "import matplotlib.pyplot as plt"
   ]
  },
  {
   "cell_type": "code",
   "execution_count": 15,
   "metadata": {},
   "outputs": [],
   "source": [
    "#route = environ['route']\n",
    "route='LUX-CPH'\n",
    "downweight_granularity=['FltNum','dtime','Direction','dday','month']"
   ]
  },
  {
   "cell_type": "markdown",
   "metadata": {},
   "source": [
    "# Data Import"
   ]
  },
  {
   "cell_type": "code",
   "execution_count": 16,
   "metadata": {},
   "outputs": [],
   "source": [
    "Data=pd.read_csv('~/SQLsnippets/SQLsnippet_'+route+'.csv',sep=',')"
   ]
  },
  {
   "cell_type": "code",
   "execution_count": 18,
   "metadata": {},
   "outputs": [],
   "source": [
    "Data=Data.drop_duplicates(subset=['extraction_date','calendar_date','flight_number','airport_arrival','airport_depart','dep_time'])"
   ]
  },
  {
   "cell_type": "code",
   "execution_count": 20,
   "metadata": {},
   "outputs": [],
   "source": [
    "Data=Data.dropna(how='any')\n",
    "Data.index=range(Data.shape[0])\n",
    "Data=Data[['airport_depart','airport_arrival','flight_number','dep_time','extraction_date', 'calendar_date',\n",
    "     'pax_total','group_pax','cabin_capacity']]\n",
    "Data=Data.rename(columns={'airport_depart': 'SegFrom', 'airport_arrival': 'SegTo', 'flight_number': 'FltNum', \n",
    "'dep_time': 'DepTime', 'extraction_date': 'IssueDate', 'calendar_date': 'DepDate',\n",
    "'pax_total': 'NumPax', 'group_pax': 'Group pax', 'cabin_capacity': 'Cabin Capacity'})\n",
    "\n",
    "# CHANGE FORMAT\n",
    "\n",
    "Data['FltNum']=Data['FltNum'].apply(lambda x: str(str(x).split('-')[1]))\n",
    "Data['NumPax']=Data['NumPax'].apply(lambda x: float(str(x).split(' ')[0]))\n",
    "Data['Group pax']=Data['Group pax'].apply(lambda x: float(str(x).split(' ')[0]))\n",
    "Data['Cabin Capacity']=Data['Cabin Capacity'].apply(lambda x: float(str(x).split(' ')[0]))\n",
    "Data['DepDayMonth']=Data['DepDate'].apply(lambda x: str(x).split('/')[0]+'/'+str(x).split('/')[1])\n",
    "Data['DepMonth']=Data['DepDate'].apply(lambda x: str(x).split('/')[1]+'/'+str(x).split('/')[2])\n",
    "\n",
    "# MAP DESTINATION COMBINATION TO INBOUND OR OUTBOUND\n",
    "\n",
    "Map_AirportsToDirection=DataFrame([[route.split('-')[0],route.split('-')[1]],\n",
    "[route.split('-')[1],route.split('-')[0]],['O','I']]).transpose()\n",
    "Map_AirportsToDirection.columns=['SegFrom','SegTo','Direction']\n",
    "Data=Data.merge(Map_AirportsToDirection,on=['SegTo','SegFrom'])"
   ]
  },
  {
   "cell_type": "markdown",
   "metadata": {},
   "source": [
    "### Change format of remaining columns"
   ]
  },
  {
   "cell_type": "code",
   "execution_count": 21,
   "metadata": {},
   "outputs": [],
   "source": [
    "IssueDate=Data['IssueDate'].unique().tolist()\n",
    "IssueDate_Map=DataFrame([IssueDate,\n",
    "[pd.to_datetime(x.split(' ')[0],format='%d/%m/%Y') for x in IssueDate]]).transpose()\n",
    "IssueDate_Map.columns=['IssueDate','NewFormat']\n",
    "\n",
    "Data=Data.merge(IssueDate_Map,on=['IssueDate'])\n",
    "Data=Data[[x for x in Data.columns if x!='IssueDate']]\n",
    "Data=Data.rename(columns={'NewFormat': 'IssueDate'})\n",
    "\n",
    "#######################################\n",
    "\n",
    "DepartureDate=Data['DepDate'].unique().tolist()\n",
    "DepartureDate_Map=DataFrame([DepartureDate,\n",
    "[pd.to_datetime(x.split(' ')[0],format='%d/%m/%Y') for x in DepartureDate]]).transpose()\n",
    "DepartureDate_Map.columns=['DepDate','NewFormat']\n",
    "DepartureDate_Map['yday']=DepartureDate_Map['NewFormat'].apply(lambda x: x.timetuple().tm_yday)\n",
    "\n",
    "DepartureDate_Map['dday_num']=DepartureDate_Map['NewFormat'].apply(lambda x: x.weekday())\n",
    "Weekday_Map=DataFrame([[x for x in range(0,8)],['Monday','Tuesday','Wednesday','Thursday','Friday','Saturday','Sunday']]).transpose()\n",
    "Weekday_Map.columns=['dday_num','dday']\n",
    "Weekday_Map['dday_num']=Weekday_Map['dday_num'].astype('int')\n",
    "\n",
    "DepartureDate_Map=DepartureDate_Map.merge(Weekday_Map,on='dday_num')\n",
    "\n",
    "DepartureDate_Map=DepartureDate_Map[[x for x in DepartureDate_Map if x!='dday_num']]\n",
    "DepartureDate_Map=DepartureDate_Map.sort_values(by='NewFormat')\n",
    "\n",
    "Data=Data.merge(DepartureDate_Map,on=['DepDate'])\n",
    "Data=Data[[x for x in Data.columns if x!='DepDate']]\n",
    "Data=Data.rename(columns={'NewFormat': 'DepDate'})\n",
    "\n",
    "#######################################\n",
    "\n",
    "\n",
    "DepartureTime=Data['DepTime'].unique().tolist()\n",
    "DepartureTime_Map=DataFrame([DepartureTime,[pd.to_datetime(x,format='%H:%M:%S') for x in DepartureTime]]).transpose()\n",
    "DepartureTime_Map.columns=['DepTime','NewFormat']\n",
    "DepartureTime_Map['dtime']=DepartureTime_Map['NewFormat'].apply(lambda x: (x-datetime.datetime.combine(x.date(),datetime.time(0,0))).seconds/60)\n",
    "\n",
    "Data=Data.merge(DepartureTime_Map,on=['DepTime'])\n",
    "Data=Data[[x for x in Data.columns if x!='DepTime']]\n",
    "Data=Data.rename(columns={'NewFormat': 'DepTime'})\n",
    "\n",
    "#######################################\n",
    "\n",
    "Data['month']=Data['DepDate'].apply(lambda x: int(x.month))\n",
    "\n",
    "#######################################\n",
    "\n",
    "Data['Dprio']=(Data['DepDate']-Data['IssueDate']).apply(lambda x: float(x.days))\n",
    "Data=Data.loc[(Data['Dprio']>0)&(Data['Dprio']<=366)&(Data['NumPax']>0)&(~pd.isnull(Data['DepTime'])),:]\n",
    "\n",
    "Data=Data.sort_values(by=['DepDate','FltNum','dtime','Dprio'],ascending=[True,True,True,False])\n",
    "\n",
    "# CAPACITY SMOOTHING\n",
    "\n",
    "#Data.loc[Data['Cabin Capacity']>70,'Cabin Capacity']=67"
   ]
  },
  {
   "cell_type": "markdown",
   "metadata": {},
   "source": [
    "# Cabin Capacity"
   ]
  },
  {
   "cell_type": "code",
   "execution_count": 22,
   "metadata": {},
   "outputs": [],
   "source": [
    "Capacity=Data[['DepDate','FltNum','dtime','Dprio','Cabin Capacity']].copy()\n",
    "\n",
    "intermediate=Capacity.groupby(['DepDate','FltNum','dtime'])['Dprio'].min().reset_index().rename(columns={'Dprio': 'Dprio_min'})\n",
    "intermediate['DepDate']=intermediate['DepDate'].apply(lambda x: pd.to_datetime(x))\n",
    "Capacity['DepDate']=Capacity['DepDate'].apply(lambda x: pd.to_datetime(x))\n",
    "\n",
    "Capacity_smooth=Capacity.merge(intermediate[[x for x in intermediate.columns if x!='Cabin Capacity']],\n",
    "on=['DepDate','FltNum','dtime'])\n",
    "Capacity_smooth=Capacity_smooth.loc[Capacity_smooth['Dprio']==Capacity_smooth['Dprio_min'],[x for x in Capacity_smooth.columns if 'Dprio' not in x]]\n",
    "\n",
    "Dropdown_comb=Data[['DepDate','FltNum','dtime']].drop_duplicates()\n",
    "Dropdown_comb.index=range(Dropdown_comb.shape[0])\n",
    "Dprio_all=Data['Dprio'].unique().tolist()\n",
    "\n",
    "Dropdown_comb=Dropdown_comb.loc[np.repeat(Dropdown_comb.index,len(Dprio_all)),:]\n",
    "Dropdown_comb.index=range(Dropdown_comb.shape[0])\n",
    "\n",
    "Dropdown_comb=pd.concat([Dropdown_comb,Series(Dprio_all*Dropdown_comb.drop_duplicates().shape[0])],axis=1)\n",
    "Dropdown_comb=Dropdown_comb.rename(columns={0: 'Dprio'})\n",
    "\n",
    "Dropdown_comb['DepDate']=Dropdown_comb['DepDate'].apply(lambda x: pd.to_datetime(x))\n",
    "Capacity['DepDate']=Capacity['DepDate'].apply(lambda x: pd.to_datetime(x))\n",
    "\n",
    "Dropdown_comb=Dropdown_comb.merge(Capacity,on=['DepDate','FltNum','dtime','Dprio'],how='left')\n",
    "Dropdown_comb=Dropdown_comb.merge(Capacity_smooth.rename(columns={'Cabin Capacity': 'C_smooth'}),on=['DepDate','FltNum','dtime'])\n",
    "\n",
    "\n",
    "Dropdown_comb['Cabin Capacity']=Dropdown_comb[['Cabin Capacity','C_smooth']].apply(lambda x: x[1] if pd.isnull(x[0]) else x[0],axis=1)\n",
    "\n",
    "Dropdown_comb=Dropdown_comb[[x for x in Dropdown_comb.columns if x!='C_smooth']]\n",
    "\n",
    "deptime=[str(x/60).split('.')[0]+':'+str(round(float('0.'+str(x/60).split('.')[1])*60)) for x in Dropdown_comb['dtime'].unique()]\n",
    "deptime=[x+'0' if len(x.split(':')[1])==1 else x for x in deptime]\n",
    "deptime=['0'+x if len(x.split(':')[0])==1 else x for x in deptime]\n",
    "\n",
    "Map_DepTime=DataFrame([Capacity['dtime'].unique(),[x+'0' if len(x.split(':')[1])==1 else x for x in deptime]]).transpose()\n",
    "Map_DepTime.columns=['dtime','deptime']\n",
    "Map_DepTime['dtime']=Map_DepTime['dtime'].astype('int')\n",
    "\n",
    "Dropdown_comb=Dropdown_comb.merge(Map_DepTime,on='dtime')\n",
    "Dropdown_comb['dtime']=Dropdown_comb['deptime']\n",
    "Dropdown_comb=Dropdown_comb[[x for x in Dropdown_comb.columns if x!='deptime']]"
   ]
  },
  {
   "cell_type": "markdown",
   "metadata": {},
   "source": [
    "# Pax Data"
   ]
  },
  {
   "cell_type": "code",
   "execution_count": 7,
   "metadata": {},
   "outputs": [],
   "source": [
    "Pax=Data[['DepDate','Dprio','FltNum','yday','dtime','Direction','month','dday','NumPax']].copy()\n",
    "Pax=Pax.set_index(['DepDate','Dprio','FltNum','yday','dtime','Direction','month','dday'])\n",
    "\n",
    "Pax=Pax.groupby(level=[0,2,3,4,5,6,7]).diff().reset_index()\n",
    "Pax=Pax.dropna(how='any')\n",
    "\n",
    "Data_NoObs=Pax.loc[:,['DepDate','FltNum','yday','dtime','Direction','month','dday']].drop_duplicates().copy()\n",
    "\n",
    "distinct_flights=Data_NoObs.shape[0]\n",
    "Data_NoObs.index=range(Data_NoObs.shape[0])\n",
    "Data_NoObs=Data_NoObs.iloc[np.repeat([x for x in Data_NoObs.index],365),:]\n",
    "\n",
    "Data_NoObs['Dprio']=[x for x in range(1,366)]*distinct_flights\n",
    "Data_NoObs['NumPax']=0\n",
    "\n",
    "Data_NoObs=Data_NoObs[Pax.columns]\n",
    "\n",
    "Pax=pd.concat([Pax,Data_NoObs])\n",
    "Pax=Pax.drop_duplicates(subset=['DepDate','Dprio','FltNum','yday','dtime','Direction','month','dday'])\n",
    "\n",
    "Pax=Pax.sort_values(by=['DepDate','FltNum','dtime','Dprio'],ascending=[True,True,True,False])\n",
    "Pax.index=range(Pax.shape[0])"
   ]
  },
  {
   "cell_type": "markdown",
   "metadata": {},
   "source": [
    "# Group bookings"
   ]
  },
  {
   "cell_type": "code",
   "execution_count": 8,
   "metadata": {},
   "outputs": [],
   "source": [
    "GroupPax=Data[['DepDate','Dprio','FltNum','yday','dtime','Direction','month','dday','Group pax']].copy()\n",
    "GroupPax=GroupPax.set_index(['DepDate','Dprio','FltNum','yday','dtime','Direction','month','dday'])\n",
    "\n",
    "GroupPax=GroupPax.groupby(level=[0,2,3,4,5,6,7]).diff().reset_index()\n",
    "GroupPax=GroupPax.dropna(how='any')\n",
    "Data_NoObs=GroupPax.loc[:,['DepDate','FltNum','yday','dtime','Direction','month','dday']].drop_duplicates().copy()\n",
    "\n",
    "distinct_flights=Data_NoObs.shape[0]\n",
    "Data_NoObs.index=range(Data_NoObs.shape[0])\n",
    "Data_NoObs=Data_NoObs.iloc[np.repeat([x for x in Data_NoObs.index],365),:]\n",
    "\n",
    "Data_NoObs['Dprio']=[x for x in range(1,366)]*distinct_flights\n",
    "Data_NoObs['Group pax']=0\n",
    "\n",
    "Data_NoObs=Data_NoObs[GroupPax.columns]\n",
    "\n",
    "GroupPax=pd.concat([GroupPax,Data_NoObs])\n",
    "GroupPax=GroupPax.drop_duplicates(subset=['DepDate','Dprio','FltNum','yday','dtime','Direction','month','dday'])\n",
    "\n",
    "GroupPax=GroupPax.sort_values(by=['DepDate','FltNum','dtime','Dprio'],ascending=[True,True,True,False])\n",
    "GroupPax.index=range(GroupPax.shape[0])\n",
    "\n",
    "GroupPax['Dprio']=-GroupPax['Dprio']\n",
    "GroupPax['Group_pax_cumul']=GroupPax.groupby(['DepDate','FltNum','yday','dtime','Direction','month','dday'])['Group pax'].transform(lambda x: np.cumsum(x))\n",
    "GroupPax['Dprio']=-GroupPax['Dprio']"
   ]
  },
  {
   "cell_type": "markdown",
   "metadata": {},
   "source": [
    "# Remove group bookings from pax data and cabin capacity"
   ]
  },
  {
   "cell_type": "code",
   "execution_count": 9,
   "metadata": {},
   "outputs": [],
   "source": [
    "# Pax=Pax.merge(GroupPax,on=['DepDate','Dprio','FltNum','yday','dtime','Direction','month','dday'])\n",
    "# Pax['NumPax']=Pax['NumPax']-Pax['Group pax']\n",
    "# Pax=Pax[[x for x in Pax.columns if x!='Group pax']]\n",
    "\n",
    "##############################################################################\n",
    "\n",
    "deptime=[str(x/60).split('.')[0]+':'+str(round(float('0.'+str(x/60).split('.')[1])*60)) for x in GroupPax['dtime'].unique()]\n",
    "deptime=[x+'0' if len(x.split(':')[1])==1 else x for x in deptime]\n",
    "deptime=['0'+x if len(x.split(':')[0])==1 else x for x in deptime]\n",
    "\n",
    "Map_DepTime=DataFrame([Capacity['dtime'].unique(),[x+'0' if len(x.split(':')[1])==1 else x for x in deptime]]).transpose()\n",
    "Map_DepTime.columns=['dtime','deptime']\n",
    "Map_DepTime['dtime']=Map_DepTime['dtime'].astype('int')\n",
    "\n",
    "GroupPax=GroupPax.merge(Map_DepTime,on='dtime')\n",
    "GroupPax['dtime']=GroupPax['deptime']\n",
    "GroupPax=GroupPax[[x for x in GroupPax.columns if x!='deptime']]\n",
    "\n",
    "# Dropdown_comb=Dropdown_comb.merge(GroupPax[['DepDate','FltNum','dtime','Dprio','Group_pax_cumul']],\n",
    "# on=['DepDate','FltNum','dtime','Dprio'])\n",
    "# Dropdown_comb['Cabin Capacity_removeGroup']=Dropdown_comb['Cabin Capacity']-Dropdown_comb['Group_pax_cumul']\n",
    "# Dropdown_comb['Cabin Capacity_removeGroup']=Dropdown_comb[['Cabin Capacity_removeGroup', 'Cabin Capacity']].apply(lambda x: x[1] if x[0]>x[1] else x[0],axis=1)\n",
    "# Dropdown_comb['Cabin Capacity']=Dropdown_comb['Cabin Capacity_removeGroup']\n",
    "# Dropdown_comb=Dropdown_comb[[x for x in Dropdown_comb.columns if x!='Group pax' and x!='Cabin Capacity_removeGroup']]"
   ]
  },
  {
   "cell_type": "markdown",
   "metadata": {},
   "source": [
    "# Data export"
   ]
  },
  {
   "cell_type": "markdown",
   "metadata": {},
   "source": [
    "### Pax"
   ]
  },
  {
   "cell_type": "code",
   "execution_count": 10,
   "metadata": {},
   "outputs": [],
   "source": [
    "TrainingSet_Pax=Pax.loc[(Pax['DepDate']>=pd.to_datetime('2018-04-01'))\\\n",
    "&(Pax['DepDate']<pd.to_datetime(datetime.datetime.today().strftime('%Y-%m-%d'))),].copy()\n",
    "TestSet_Pax=Pax.loc[Pax['DepDate']>=pd.to_datetime(datetime.datetime.today().strftime('%Y-%m-%d')),].copy()\n",
    "\n",
    "TrainingSet_Pax.to_csv('~/Data/Intermediate_Output/R_Training_Pax.csv',index=False)\n",
    "TestSet_Pax['DepDate']=TestSet_Pax['DepDate'].apply(lambda x: pd.to_datetime(x))\n",
    "TestSet_Pax.to_csv('~/Data/Intermediate_Output/R_Test_Pax.csv',index=False)"
   ]
  },
  {
   "cell_type": "markdown",
   "metadata": {},
   "source": [
    "### Group Pax"
   ]
  },
  {
   "cell_type": "code",
   "execution_count": 11,
   "metadata": {},
   "outputs": [],
   "source": [
    "GroupPax.to_csv('~/Data/Intermediate_Output/GroupPax.csv',index=False)"
   ]
  },
  {
   "cell_type": "markdown",
   "metadata": {},
   "source": [
    "### Cabin Capacity"
   ]
  },
  {
   "cell_type": "code",
   "execution_count": 12,
   "metadata": {},
   "outputs": [],
   "source": [
    "Dropdown_comb['Route']=route\n",
    "Dropdown_comb.to_csv('~/Data/FrontEnd_Input/Capacity_forPlots_'+route+'.csv',index=False)"
   ]
  },
  {
   "cell_type": "code",
   "execution_count": 13,
   "metadata": {},
   "outputs": [],
   "source": [
    "test=Pax.loc[(Pax['DepDate']>=pd.to_datetime('2019-05-01'))&(Pax['DepDate']<=pd.to_datetime('2019-05-31')),:]"
   ]
  }
 ],
 "metadata": {
  "kernelspec": {
   "display_name": "Python 3",
   "language": "python",
   "name": "python3"
  },
  "language_info": {
   "codemirror_mode": {
    "name": "ipython",
    "version": 3
   },
   "file_extension": ".py",
   "mimetype": "text/x-python",
   "name": "python",
   "nbconvert_exporter": "python",
   "pygments_lexer": "ipython3",
   "version": "3.7.1"
  }
 },
 "nbformat": 4,
 "nbformat_minor": 2
}
