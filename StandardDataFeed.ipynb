{
 "cells": [
  {
   "cell_type": "code",
   "execution_count": 920,
   "metadata": {},
   "outputs": [],
   "source": [
    "from typing import List\n",
    "\n",
    "import dash\n",
    "import dash_core_components as dcc\n",
    "import dash_html_components as html\n",
    "from dash.dependencies import Input, Output, State\n",
    "import dash_table\n",
    "\n",
    "import plotly.graph_objs as go\n",
    "import plotly.plotly as py\n",
    "import plotly.figure_factory as ff\n",
    "\n",
    "import flask\n",
    "from flask_cors import CORS\n",
    "\n",
    "import numpy as np\n",
    "import pandas as pd\n",
    "from pandas import Series\n",
    "from pandas import DataFrame\n",
    "\n",
    "import os\n",
    "from os import environ\n",
    "import requests\n",
    "import io\n",
    "\n",
    "import datetime\n",
    "from dateutil.relativedelta import relativedelta\n",
    "\n",
    "import socket\n",
    "\n",
    "import seaborn as sns\n",
    "from itertools import groupby"
   ]
  },
  {
   "cell_type": "code",
   "execution_count": 921,
   "metadata": {},
   "outputs": [],
   "source": [
    "Data=pd.read_csv('SQLsnippet_OPO.csv')\n",
    "Data.columns=[x.replace(' ','') for x in Data.columns]\n",
    "\n",
    "Data['min_stay']=Data[['is_one_way','min_stay']].apply(lambda x: -1 if x[0]==1 else x[1],axis=1)\n",
    "minstay_map=DataFrame([[x for x in range(-1,11)],['one way','0 days','1 day']+[str(x)+' days' for x in range(2,11)]],index=['min_stay','min_stay_new']).transpose()\n",
    "\n",
    "minstay_map['min_stay']=minstay_map['min_stay'].astype('int')\n",
    "minstay_map['min_stay_new']=minstay_map['min_stay_new'].astype('str')\n",
    "\n",
    "Data=Data.merge(minstay_map,on='min_stay')\n",
    "Data['min_stay']=Data['min_stay_new']\n",
    "Data=Data[[x for x in Data.columns if x!='min_stay_new']]"
   ]
  },
  {
   "cell_type": "code",
   "execution_count": 922,
   "metadata": {},
   "outputs": [],
   "source": [
    "Data_oneway=Data.loc[Data['min_stay']=='one way',['carrier','observation_date','origin','destination','outbound_departure_date','min_stay',\n",
    "'outbound_departure_time','outbound_seats','price_outbound','price_exc']]\n",
    "Data_oneway['price_exc']=Data_oneway[['price_outbound','price_exc']].apply(lambda x: x[0] if pd.isnull(x[1]) else x[1],axis=1)\n",
    "Data_oneway=Data_oneway[[x for x in Data_oneway.columns if x!='price_outbound']]\n",
    "\n",
    "Data_twoway=Data.loc[Data['min_stay']!='one way',['carrier','observation_date','origin','destination','min_stay','outbound_departure_date',\n",
    "'outbound_departure_time','outbound_seats','inbound_departure_date','inbound_departure_time','inbound_seats','price_outbound','price_inbound','price_exc']]"
   ]
  },
  {
   "cell_type": "code",
   "execution_count": 923,
   "metadata": {},
   "outputs": [],
   "source": [
    "Data_oneway_min=Data_oneway.groupby(['carrier','origin','destination','outbound_departure_date','min_stay','outbound_departure_time'])['price_exc']\\\n",
    ".min().reset_index().rename(columns={'price_exc': 'price_outbound_min'})\n",
    "Data_twoway_min=Data_twoway.groupby(['carrier','origin','destination','outbound_departure_date','min_stay','outbound_departure_time'])['price_outbound','price_inbound','price_exc']\\\n",
    ".min().reset_index().rename(columns={'price_outbound': 'price_outbound_min','price_inbound': 'price_inbound_min','price_exc': 'price_exc_min'})\n",
    "\n",
    "Data_twoway_mincomb=Data_twoway.merge(Data_twoway_min[['carrier','origin','destination','outbound_departure_date','min_stay','outbound_departure_time','price_exc_min','price_outbound_min',\n",
    "                                                                'price_inbound_min']],\n",
    "on=['carrier','origin','destination','outbound_departure_date','min_stay','outbound_departure_time'])\n",
    "\n",
    "Data_twoway_mincomb=Data_twoway_mincomb.loc[Data_twoway_mincomb['price_exc']==Data_twoway_mincomb['price_exc_min'],\n",
    "                                                 [x for x in Data_twoway_mincomb.columns if '_min' not in x]]\n",
    "\n",
    "Data_twoway_mincomb=Data_twoway_mincomb.rename(columns={'price_outbound': 'price_outbound_mincomb', 'price_inbound': 'price_inbound_mincomb'})\n",
    "Data_twoway_mincomb=Data_twoway_mincomb[[x for x in Data_twoway_mincomb.columns if 'price_exc' not in x]]\n",
    "\n",
    "Data_twoway_min=Data_twoway_min.merge(Data_twoway_mincomb[['carrier','origin','destination','outbound_departure_date','min_stay','outbound_departure_time','price_outbound_mincomb','price_inbound_mincomb']],\n",
    "on=['carrier','origin','destination','outbound_departure_date','min_stay','outbound_departure_time'])"
   ]
  },
  {
   "cell_type": "code",
   "execution_count": 924,
   "metadata": {},
   "outputs": [],
   "source": [
    "Data_oneway_min=Data_oneway_min.drop_duplicates()\n",
    "Data_twoway_min=Data_twoway_min.drop_duplicates()"
   ]
  },
  {
   "cell_type": "code",
   "execution_count": 925,
   "metadata": {},
   "outputs": [],
   "source": [
    "Data_oneway_min['price_exc_min']=Data_oneway_min['price_outbound_min']"
   ]
  },
  {
   "cell_type": "code",
   "execution_count": 926,
   "metadata": {},
   "outputs": [],
   "source": [
    "Data_twoway_min=Data_twoway_min[[x for x in Data_twoway_min if 'comb' not in x]]"
   ]
  },
  {
   "cell_type": "code",
   "execution_count": 927,
   "metadata": {},
   "outputs": [
    {
     "name": "stderr",
     "output_type": "stream",
     "text": [
      "C:\\Users\\35266\\AppData\\Local\\Continuum\\anaconda3\\lib\\site-packages\\ipykernel_launcher.py:1: FutureWarning:\n",
      "\n",
      "Sorting because non-concatenation axis is not aligned. A future version\n",
      "of pandas will change to not sort by default.\n",
      "\n",
      "To accept the future behavior, pass 'sort=False'.\n",
      "\n",
      "To retain the current behavior and silence the warning, pass 'sort=True'.\n",
      "\n",
      "\n"
     ]
    }
   ],
   "source": [
    "Data=pd.concat([Data_oneway_min,Data_twoway_min])"
   ]
  },
  {
   "cell_type": "code",
   "execution_count": 928,
   "metadata": {},
   "outputs": [],
   "source": [
    "Data['route']=Data['origin']+'-'+Data['destination']\n",
    "Data=Data[['route']+[x for x in Data.columns if x not in ['route','origin','destination']]]"
   ]
  },
  {
   "cell_type": "markdown",
   "metadata": {},
   "source": [
    "# Dash"
   ]
  },
  {
   "cell_type": "code",
   "execution_count": 929,
   "metadata": {},
   "outputs": [],
   "source": [
    "external_stylesheets = ['https://codepen.io/chriddyp/pen/bWLwgP.css']"
   ]
  },
  {
   "cell_type": "code",
   "execution_count": 930,
   "metadata": {},
   "outputs": [],
   "source": [
    "Data['outbound_departure_date']=pd.to_datetime(Data['outbound_departure_date'])\n",
    "Data['outbound_departure_time']=Data['outbound_departure_time'].apply(lambda x: datetime.datetime.strptime('1970-01-01'+' '+x,'%Y-%m-%d %H:%M'))\n",
    "\n",
    "intermediate=Data[['route','outbound_departure_time','min_stay']].drop_duplicates()"
   ]
  },
  {
   "cell_type": "code",
   "execution_count": 931,
   "metadata": {},
   "outputs": [],
   "source": [
    "epoch = datetime.datetime.utcfromtimestamp(0)\n",
    "def unix_time_millis(dt):\n",
    "    return int((dt - epoch).total_seconds())#* 1000.0\n",
    "\n",
    "def get_marks_from_start_end(start, end):\n",
    "    ''' Returns dict with one item per month\n",
    "    {1440080188.1900003: '2015-08',\n",
    "    '''\n",
    "    result = []\n",
    "    current = start\n",
    "    while current <= end:\n",
    "        result.append(current)\n",
    "        current += relativedelta(hours=1)\n",
    "    return {unix_time_millis(m):(str(m.strftime('%H:%M'))) for m in result}"
   ]
  },
  {
   "cell_type": "code",
   "execution_count": 932,
   "metadata": {},
   "outputs": [],
   "source": [
    "def get_marks_from_start_end_2(seq):\n",
    "    ''' Returns dict with one item per month\n",
    "    {1440080188.1900003: '2015-08',\n",
    "    '''\n",
    "    return {unix_time_millis(m):(str(m.strftime('%H:%M'))) for m in seq}"
   ]
  },
  {
   "cell_type": "code",
   "execution_count": 933,
   "metadata": {},
   "outputs": [],
   "source": [
    "checkbox_values=intermediate\\\n",
    ".sort_values(by=['route','outbound_departure_time','min_stay']).transpose().values.tolist()"
   ]
  },
  {
   "cell_type": "code",
   "execution_count": 934,
   "metadata": {},
   "outputs": [],
   "source": [
    "all_marks=get_marks_from_start_end(min(checkbox_values[1]),max(checkbox_values[1]))\n",
    "# marks_lg=get_marks_from_start_end_2(Data.loc[Data['carrier']=='LG','outbound_departure_time'].drop_duplicates())\n",
    "# all_marks=dict(zip([x for x in all_marks.keys() if min([abs(x-y) for y in marks_lg.keys()])>5000],\n",
    "# [all_marks[x] for x in all_marks.keys() if min([abs(x-y) for y in marks_lg.keys()])>5000]))\n",
    "# all_marks.update(marks_lg)\n",
    "\n",
    "#all_marks=get_marks_from_start_end(min(checkbox_values[2]),max(checkbox_values[2]))\n",
    "#all_marks.update(get_marks_from_start_end_2(Data.loc[Data['carrier']=='LG','outbound_departure_time'].drop_duplicates()))\n",
    "#all_marks.update(get_marks_from_start_end_2(Data.loc[Data['carrier']=='LG','outbound_departure_time'].drop_duplicates()))"
   ]
  },
  {
   "cell_type": "code",
   "execution_count": 935,
   "metadata": {},
   "outputs": [],
   "source": [
    "PAGE_SIZE = 20\n",
    "\n",
    "app = dash.Dash(__name__, external_stylesheets=external_stylesheets)\n",
    "\n",
    "app.layout = html.Div(children=[\n",
    "        html.Div([html.Div(style={'width': '10%', 'display': 'inline-block'}),\n",
    "        html.Img(src=app.get_asset_url('LuxairGroup.jpg'), \n",
    "              style = {'backgroundColor' : '#66b3cc','display': 'inline-block', 'vertical-align': 'middle', \n",
    "                       'width': '10%', 'height': '7em'}),\n",
    "        html.H4(children='Price Monitoring System',style={\n",
    "            'textAlign': 'center',\n",
    "            'color': 'black','height': '1em', 'display': 'inline-block', 'width': '64%'}),\n",
    "            html.Img(src=app.get_asset_url('Luxair.jpg'), \n",
    "              style = {'backgroundColor' : '#66b3cc','display': 'inline-block', 'vertical-align': 'middle',\n",
    "                       'width': '10%', 'height': '7em'}),\n",
    "        html.Div(style={'width': '10%', 'display': 'inline-block', 'vertical-align': 'middle'})\n",
    "                 ],\n",
    "        style={'margin-bottom': '-4em'})\n",
    "     ,\n",
    "    # ROUTE DROPDOWN AND DATE SLIDER\n",
    "    \n",
    "        # DROPDOWN\n",
    "    html.Div([html.Div(style={'width': '25%', 'margin-bottom': '1em', 'display': 'inline-block'}),\n",
    "    \n",
    "    html.Div([html.Div([html.Label('Route', style={'textAlign': 'center', 'font-weight': 'bold'}), \n",
    "    dcc.Dropdown(id = 'dropdown_route',\n",
    "    options=[],\n",
    "    placeholder=\"Select Route\",                                 \n",
    "    value='LUX-OPO',\n",
    "    multi=False)],\n",
    "    style={'margin-bottom': '0.5em', 'width': '80%', 'margin-left': '6em'})\n",
    "    ,\n",
    "    html.Div([html.Label('Departure Time', style={'textAlign': 'center', 'margin-bottom': '0em', 'font-weight': 'bold'}),\n",
    "    dcc.RangeSlider(\n",
    "           id = 'deptime_RangeSlider',\n",
    "           updatemode = 'mouseup', #don't let it update till mouse released\n",
    "           min = unix_time_millis(min(checkbox_values[1])),\n",
    "           max = unix_time_millis(max(checkbox_values[1])),\n",
    "           value = [unix_time_millis(min(checkbox_values[1])),\n",
    "                   unix_time_millis(max(checkbox_values[1]))],\n",
    "           #TODO add markers for key dates\n",
    "           #marks=get_marks_from_start_end(min(checkbox_values[2]),max(checkbox_values[2])),\n",
    "           marks=all_marks\n",
    "\n",
    "       )],\n",
    "    style={'margin-bottom': '2em', 'width': '80%', 'margin-left': '6em'}),          \n",
    "    html.Div([html.Label('Minimum Stay', style={'textAlign': 'center', 'font-weight': 'bold'}), \n",
    "    dcc.Dropdown(id = 'dropdown_stay',\n",
    "    options=[],\n",
    "    placeholder=\"Select duration\",                                 \n",
    "    value='one way',\n",
    "    multi=False)],\n",
    "    style={'margin-bottom': '0.5em', 'width': '80%', 'margin-left': '6em'})\n",
    "             ],\n",
    "    style={'width': '50%', 'margin-bottom': '1em', 'margin-top': '0','display': 'inline-block', 'background-color': 'lightgrey'}),\n",
    "    \n",
    "    html.Div(style={'width': '25%', 'margin-bottom': '0.5em', 'margin-top': '-3em', 'display': 'inline-block'})\n",
    "             ]),\n",
    "    # GRAPH CONTAINER                   \n",
    "    html.Div(children=[dcc.Graph(\n",
    "                    id='graph')],\n",
    "    style={'width': '45%', 'float': 'right', 'display': 'inline-block', 'margin-top': '0.5em'})\n",
    "        ])"
   ]
  },
  {
   "cell_type": "code",
   "execution_count": 936,
   "metadata": {},
   "outputs": [],
   "source": [
    "@app.callback(\n",
    "    Output(\"dropdown_route\", \"options\"),\n",
    "    [Input(\"deptime_RangeSlider\", \"value\"),\n",
    "    Input(\"dropdown_stay\", \"value\")]\n",
    "    )\n",
    "def set_checklist_route(values_deptime,values_stay):\n",
    "    subset=set([checkbox_values[0][i] for i in range(len(checkbox_values[0]))\n",
    "    if unix_time_millis(checkbox_values[1][i])>=int(values_deptime[0]) and unix_time_millis(checkbox_values[1][i])<=int(values_deptime[1])\\\n",
    "    and checkbox_values[2][i] in values_stay])\n",
    "    values=[{'label': i,'value': i} for i in sorted(subset)]\n",
    "    return values\n",
    "\n",
    "##########################################################\n",
    "\n",
    "@app.callback(\n",
    "    [Output(\"deptime_RangeSlider\", \"min\"),\n",
    "    Output(\"deptime_RangeSlider\", \"max\"),\n",
    "    Output(\"deptime_RangeSlider\", \"marks\")],\n",
    "    [Input(\"dropdown_route\", \"value\"),\n",
    "    Input(\"dropdown_stay\", \"value\")]\n",
    "    )\n",
    "def set_checklist_route(values_route,values_stay):\n",
    "    subset=set([checkbox_values[1][i] for i in range(len(checkbox_values[1]))\\\n",
    "    if checkbox_values[0][i] in values_route\n",
    "    and checkbox_values[2][i] in values_stay])\n",
    "    minimum=min([unix_time_millis(x) for x in subset])\n",
    "    maximum=max([unix_time_millis(x) for x in subset])\n",
    "    value=[minimum,maximum]\n",
    "    #marks=get_marks_from_start_end([x for x in subset if unix_time_millis(x)==minimum][0],\n",
    "    #                               [x for x in subset if unix_time_millis(x)==maximum][0])\n",
    "    marks=get_marks_from_start_end([x for x in subset if unix_time_millis(x)==minimum][0],\n",
    "                                   [x for x in subset if unix_time_millis(x)==maximum][0])\n",
    "#     #marks.update(get_marks_from_start_end_2([x for x in Data.loc[Data['carrier']=='LG','outbound_departure_time'].drop_duplicates()\\\n",
    "#     #                        if unix_time_millis(x)>=minimum and unix_time_millis(x)<=maximum]))\n",
    "#     marks_lg=get_marks_from_start_end_2([x for x in Data.loc[Data['carrier']=='LG','outbound_departure_time'].drop_duplicates()\\\n",
    "#                             if unix_time_millis(x)>=minimum and unix_time_millis(x)<=maximum])\n",
    "#     marks=dict(zip([x for x in marks.keys() if min([abs(x-y) for y in marks_lg.keys()])>10000],\n",
    "#     [marks[x] for x in marks.keys() if min([abs(x-y) for y in marks_lg.keys()])>10000]))\n",
    "#     marks.update(marks_lg)\n",
    "    \n",
    "    return minimum, maximum, marks\n",
    "\n",
    "##########################################################\n",
    "\n",
    "@app.callback(\n",
    "    Output(\"dropdown_stay\", \"options\"),\n",
    "    [Input(\"dropdown_route\", \"value\"),\n",
    "    Input(\"deptime_RangeSlider\", \"value\")]\n",
    "    )\n",
    "def set_checklist_route(values_route,values_deptime):\n",
    "    subset=set([checkbox_values[2][i] for i in range(len(checkbox_values[2]))\\\n",
    "    if checkbox_values[0][i] in values_route\\\n",
    "    and unix_time_millis(checkbox_values[1][i])>=int(values_deptime[0]) and unix_time_millis(checkbox_values[1][i])<=int(values_deptime[1])])\n",
    "    values=[{'label': i,'value': i} for i in sorted(subset)]\n",
    "    return values"
   ]
  },
  {
   "cell_type": "code",
   "execution_count": 937,
   "metadata": {},
   "outputs": [],
   "source": [
    "colors_carrier=dict(zip(Data['carrier'].unique(),['yellow','blue','red','orange']))\n",
    "line_inout=dict(zip(['price_outbound_min','price_outbound_min'],['dash','dot']))"
   ]
  },
  {
   "cell_type": "code",
   "execution_count": null,
   "metadata": {},
   "outputs": [],
   "source": [
    "@app.callback(Output('graph', 'figure'),\n",
    "     #,\n",
    "     # Output('graph', 'figure')\n",
    "    [Input('dropdown_route', 'value'),\n",
    "    Input('deptime_RangeSlider', 'value'),\n",
    "    Input('dropdown_stay', 'value')]\n",
    "    )\n",
    "def update_plot(values_route, values_deptime, values_stay):\n",
    "    \n",
    "    dff_plot = Data.loc[Data['route'].apply(lambda x: x in values_route)\\\n",
    "                   &Data['outbound_departure_time'].apply(lambda x: unix_time_millis(x)>=values_deptime[0] and unix_time_millis(x)<=values_deptime[1])\\\n",
    "                   &Data['min_stay'].apply(lambda x: x in values_stay),:].sort_values(by=['outbound_departure_date'])\n",
    "    carriers=dff_plot['carrier'].unique()\n",
    "    \n",
    "    traces = []\n",
    "        \n",
    "    for i in ['price_outbound_min','price_inbound_min']:\n",
    "        for j in carriers:\n",
    "            traces.append(go.Scatter(\n",
    "               x=dff_plot.loc[dff_plot['carrier']==j,'outbound_departure_date'].tolist(),\n",
    "               y=dff_plot.loc[dff_plot['carrier']==j,i].tolist(),\n",
    "               mode = 'lines',\n",
    "               name = j+'/'+i,\n",
    "               line = dict(\n",
    "               dash = line_inout[i],\n",
    "               color =colors_carrier[j],\n",
    "               width = 2\n",
    "                 )\n",
    "            ))\n",
    "   \n",
    "        return {'data': traces, 'layout': \n",
    "        go.Layout(title=go.layout.Title(\n",
    "        text='tst',\n",
    "        xref='paper',\n",
    "        x=0.5),\n",
    "        #xaxis={'title': 'Days prior to departure', 'range': [0, 365]},\n",
    "        #yaxis={'title': 'Bid Price', 'range': [0,dff_plot['price_exc_min'].max()+5]},\n",
    "        height=600)}\n",
    "    else:   \n",
    "        return {'data': []}         "
   ]
  },
  {
   "cell_type": "code",
   "execution_count": null,
   "metadata": {},
   "outputs": [
    {
     "name": "stdout",
     "output_type": "stream",
     "text": [
      " * Serving Flask app \"__main__\" (lazy loading)\n",
      " * Environment: production\n",
      "   WARNING: Do not use the development server in a production environment.\n",
      "   Use a production WSGI server instead.\n",
      " * Debug mode: off\n"
     ]
    },
    {
     "name": "stderr",
     "output_type": "stream",
     "text": [
      " * Running on http://localhost:4000/ (Press CTRL+C to quit)\n",
      "127.0.0.1 - - [25/Jun/2019 00:09:59] \"GET / HTTP/1.1\" 200 -\n",
      "127.0.0.1 - - [25/Jun/2019 00:10:00] \"GET /_dash-layout HTTP/1.1\" 200 -\n",
      "127.0.0.1 - - [25/Jun/2019 00:10:00] \"GET /_dash-dependencies HTTP/1.1\" 200 -\n",
      "127.0.0.1 - - [25/Jun/2019 00:10:00] \"POST /_dash-update-component HTTP/1.1\" 200 -\n",
      "127.0.0.1 - - [25/Jun/2019 00:10:00] \"POST /_dash-update-component HTTP/1.1\" 200 -\n",
      "127.0.0.1 - - [25/Jun/2019 00:10:00] \"POST /_dash-update-component HTTP/1.1\" 200 -\n",
      "127.0.0.1 - - [25/Jun/2019 00:10:01] \"GET /assets/Luxair.jpg HTTP/1.1\" 404 -\n",
      "127.0.0.1 - - [25/Jun/2019 00:10:01] \"GET /assets/LuxairGroup.jpg HTTP/1.1\" 404 -\n",
      "127.0.0.1 - - [25/Jun/2019 00:10:02] \"POST /_dash-update-component HTTP/1.1\" 200 -\n",
      "127.0.0.1 - - [25/Jun/2019 00:10:25] \"POST /_dash-update-component HTTP/1.1\" 200 -\n",
      "127.0.0.1 - - [25/Jun/2019 00:10:25] \"POST /_dash-update-component HTTP/1.1\" 200 -\n",
      "127.0.0.1 - - [25/Jun/2019 00:10:26] \"POST /_dash-update-component HTTP/1.1\" 200 -\n",
      "127.0.0.1 - - [25/Jun/2019 00:10:28] \"POST /_dash-update-component HTTP/1.1\" 200 -\n",
      "127.0.0.1 - - [25/Jun/2019 00:10:29] \"POST /_dash-update-component HTTP/1.1\" 200 -\n",
      "127.0.0.1 - - [25/Jun/2019 00:10:29] \"POST /_dash-update-component HTTP/1.1\" 200 -\n",
      "127.0.0.1 - - [25/Jun/2019 00:10:39] \"POST /_dash-update-component HTTP/1.1\" 200 -\n",
      "127.0.0.1 - - [25/Jun/2019 00:10:40] \"POST /_dash-update-component HTTP/1.1\" 200 -\n",
      "127.0.0.1 - - [25/Jun/2019 00:10:40] \"POST /_dash-update-component HTTP/1.1\" 200 -\n",
      "127.0.0.1 - - [25/Jun/2019 00:11:04] \"POST /_dash-update-component HTTP/1.1\" 200 -\n",
      "127.0.0.1 - - [25/Jun/2019 00:11:04] \"POST /_dash-update-component HTTP/1.1\" 200 -\n",
      "127.0.0.1 - - [25/Jun/2019 00:11:05] \"POST /_dash-update-component HTTP/1.1\" 200 -\n",
      "127.0.0.1 - - [25/Jun/2019 00:11:16] \"POST /_dash-update-component HTTP/1.1\" 200 -\n",
      "127.0.0.1 - - [25/Jun/2019 00:11:16] \"POST /_dash-update-component HTTP/1.1\" 200 -\n",
      "127.0.0.1 - - [25/Jun/2019 00:11:16] \"POST /_dash-update-component HTTP/1.1\" 200 -\n",
      "127.0.0.1 - - [25/Jun/2019 00:12:24] \"POST /_dash-update-component HTTP/1.1\" 200 -\n",
      "127.0.0.1 - - [25/Jun/2019 00:12:24] \"POST /_dash-update-component HTTP/1.1\" 200 -\n",
      "127.0.0.1 - - [25/Jun/2019 00:12:25] \"POST /_dash-update-component HTTP/1.1\" 200 -\n",
      "127.0.0.1 - - [25/Jun/2019 00:12:35] \"POST /_dash-update-component HTTP/1.1\" 200 -\n",
      "127.0.0.1 - - [25/Jun/2019 00:12:35] \"POST /_dash-update-component HTTP/1.1\" 200 -\n",
      "127.0.0.1 - - [25/Jun/2019 00:12:36] \"POST /_dash-update-component HTTP/1.1\" 200 -\n",
      "127.0.0.1 - - [25/Jun/2019 00:12:36] \"POST /_dash-update-component HTTP/1.1\" 200 -\n",
      "127.0.0.1 - - [25/Jun/2019 00:12:36] \"POST /_dash-update-component HTTP/1.1\" 200 -\n",
      "127.0.0.1 - - [25/Jun/2019 00:12:37] \"POST /_dash-update-component HTTP/1.1\" 200 -\n",
      "127.0.0.1 - - [25/Jun/2019 00:12:39] \"POST /_dash-update-component HTTP/1.1\" 200 -\n",
      "127.0.0.1 - - [25/Jun/2019 00:12:39] \"POST /_dash-update-component HTTP/1.1\" 200 -\n",
      "127.0.0.1 - - [25/Jun/2019 00:12:40] \"POST /_dash-update-component HTTP/1.1\" 200 -\n",
      "127.0.0.1 - - [25/Jun/2019 00:12:45] \"POST /_dash-update-component HTTP/1.1\" 200 -\n",
      "127.0.0.1 - - [25/Jun/2019 00:12:45] \"POST /_dash-update-component HTTP/1.1\" 200 -\n",
      "127.0.0.1 - - [25/Jun/2019 00:12:45] \"POST /_dash-update-component HTTP/1.1\" 200 -\n",
      "127.0.0.1 - - [25/Jun/2019 00:12:50] \"POST /_dash-update-component HTTP/1.1\" 200 -\n",
      "127.0.0.1 - - [25/Jun/2019 00:12:50] \"POST /_dash-update-component HTTP/1.1\" 200 -\n",
      "127.0.0.1 - - [25/Jun/2019 00:12:51] \"POST /_dash-update-component HTTP/1.1\" 200 -\n",
      "127.0.0.1 - - [25/Jun/2019 00:15:20] \"POST /_dash-update-component HTTP/1.1\" 200 -\n",
      "127.0.0.1 - - [25/Jun/2019 00:15:20] \"POST /_dash-update-component HTTP/1.1\" 200 -\n",
      "127.0.0.1 - - [25/Jun/2019 00:15:21] \"POST /_dash-update-component HTTP/1.1\" 200 -\n",
      "127.0.0.1 - - [25/Jun/2019 00:15:21] \"POST /_dash-update-component HTTP/1.1\" 200 -\n",
      "127.0.0.1 - - [25/Jun/2019 00:15:21] \"POST /_dash-update-component HTTP/1.1\" 200 -\n",
      "127.0.0.1 - - [25/Jun/2019 00:15:22] \"POST /_dash-update-component HTTP/1.1\" 200 -\n",
      "127.0.0.1 - - [25/Jun/2019 00:15:27] \"POST /_dash-update-component HTTP/1.1\" 200 -\n",
      "127.0.0.1 - - [25/Jun/2019 00:15:27] \"POST /_dash-update-component HTTP/1.1\" 200 -\n",
      "127.0.0.1 - - [25/Jun/2019 00:15:28] \"POST /_dash-update-component HTTP/1.1\" 200 -\n",
      "127.0.0.1 - - [25/Jun/2019 00:16:30] \"POST /_dash-update-component HTTP/1.1\" 200 -\n",
      "127.0.0.1 - - [25/Jun/2019 00:16:30] \"POST /_dash-update-component HTTP/1.1\" 200 -\n",
      "127.0.0.1 - - [25/Jun/2019 00:16:31] \"POST /_dash-update-component HTTP/1.1\" 200 -\n",
      "127.0.0.1 - - [25/Jun/2019 00:21:12] \"POST /_dash-update-component HTTP/1.1\" 200 -\n",
      "127.0.0.1 - - [25/Jun/2019 00:21:13] \"POST /_dash-update-component HTTP/1.1\" 200 -\n",
      "127.0.0.1 - - [25/Jun/2019 00:21:13] \"POST /_dash-update-component HTTP/1.1\" 200 -\n",
      "127.0.0.1 - - [25/Jun/2019 00:21:16] \"POST /_dash-update-component HTTP/1.1\" 200 -\n",
      "127.0.0.1 - - [25/Jun/2019 00:21:16] \"POST /_dash-update-component HTTP/1.1\" 200 -\n",
      "127.0.0.1 - - [25/Jun/2019 00:21:16] \"POST /_dash-update-component HTTP/1.1\" 200 -\n",
      "127.0.0.1 - - [25/Jun/2019 00:21:22] \"POST /_dash-update-component HTTP/1.1\" 200 -\n",
      "127.0.0.1 - - [25/Jun/2019 00:21:22] \"POST /_dash-update-component HTTP/1.1\" 200 -\n",
      "127.0.0.1 - - [25/Jun/2019 00:21:22] \"POST /_dash-update-component HTTP/1.1\" 200 -\n",
      "127.0.0.1 - - [25/Jun/2019 00:21:25] \"POST /_dash-update-component HTTP/1.1\" 200 -\n",
      "127.0.0.1 - - [25/Jun/2019 00:21:25] \"POST /_dash-update-component HTTP/1.1\" 200 -\n",
      "127.0.0.1 - - [25/Jun/2019 00:21:25] \"POST /_dash-update-component HTTP/1.1\" 200 -\n",
      "127.0.0.1 - - [25/Jun/2019 00:22:11] \"POST /_dash-update-component HTTP/1.1\" 200 -\n",
      "127.0.0.1 - - [25/Jun/2019 00:22:11] \"POST /_dash-update-component HTTP/1.1\" 200 -\n",
      "127.0.0.1 - - [25/Jun/2019 00:22:11] \"POST /_dash-update-component HTTP/1.1\" 200 -\n"
     ]
    }
   ],
   "source": [
    "if __name__ == '__main__':\n",
    "    #app.run_server(debug=False,host='10.0.0.8',port=port[analyst])\n",
    "    app.run_server(debug=False,host='localhost',port=4000)"
   ]
  },
  {
   "cell_type": "code",
   "execution_count": null,
   "metadata": {},
   "outputs": [],
   "source": []
  }
 ],
 "metadata": {
  "kernelspec": {
   "display_name": "Python 3",
   "language": "python",
   "name": "python3"
  },
  "language_info": {
   "codemirror_mode": {
    "name": "ipython",
    "version": 3
   },
   "file_extension": ".py",
   "mimetype": "text/x-python",
   "name": "python",
   "nbconvert_exporter": "python",
   "pygments_lexer": "ipython3",
   "version": "3.7.1"
  }
 },
 "nbformat": 4,
 "nbformat_minor": 2
}
