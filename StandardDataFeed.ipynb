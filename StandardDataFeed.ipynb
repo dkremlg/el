{
 "cells": [
  {
   "cell_type": "code",
   "execution_count": 987,
   "metadata": {},
   "outputs": [],
   "source": [
    "from typing import List\n",
    "\n",
    "import dash\n",
    "import dash_core_components as dcc\n",
    "import dash_html_components as html\n",
    "from dash.dependencies import Input, Output, State\n",
    "import dash_table\n",
    "\n",
    "import plotly.graph_objs as go\n",
    "import plotly.plotly as py\n",
    "import plotly.figure_factory as ff\n",
    "\n",
    "import flask\n",
    "from flask_cors import CORS\n",
    "\n",
    "import numpy as np\n",
    "import pandas as pd\n",
    "from pandas import Series\n",
    "from pandas import DataFrame\n",
    "\n",
    "import os\n",
    "from os import environ\n",
    "import requests\n",
    "import io\n",
    "\n",
    "import datetime\n",
    "from dateutil.relativedelta import relativedelta\n",
    "\n",
    "import socket\n",
    "\n",
    "import seaborn as sns\n",
    "from itertools import groupby"
   ]
  },
  {
   "cell_type": "code",
   "execution_count": 988,
   "metadata": {},
   "outputs": [],
   "source": [
    "Data=pd.read_csv('SQLsnippet_OPO.csv')\n",
    "Data.columns=[x.replace(' ','') for x in Data.columns]\n",
    "#Data=Data.loc[~pd.isnull(Data['outbound_seats']),:]\n",
    "observation_date=sorted(Data['observation_date'].unique())\n",
    "Data=Data.loc[Data['observation_date']==observation_date[len(observation_date)-1],:]"
   ]
  },
  {
   "cell_type": "code",
   "execution_count": 989,
   "metadata": {},
   "outputs": [],
   "source": [
    "Data_lg_oneway=Data.loc[(Data['carrier']=='LG')&(Data['is_one_way']==1),\n",
    "['origin','destination','min_stay','outbound_departure_time','outbound_departure_date','price_exc']]\n",
    "Data_lg_oneway=Data_lg_oneway.rename(columns={'price_exc': 'price_outbound'})\n",
    "Data_lg_oneway['min_stay']='one way'\n",
    "Data_lg_oneway=Data_lg_oneway\\\n",
    ".groupby(['origin','destination','min_stay','outbound_departure_time','outbound_departure_date'])['price_outbound'].min().reset_index()\n",
    "\n",
    "Data_lg_twoway=Data.loc[(Data['carrier']=='LG')&(Data['is_one_way']==0),\n",
    "['origin','destination','min_stay','outbound_departure_time','inbound_departure_time','outbound_departure_date','price_outbound','price_inbound']]\n",
    "Data_lg_twoway=Data_lg_twoway\\\n",
    ".groupby(['origin','destination','min_stay','outbound_departure_time','inbound_departure_time','outbound_departure_date'])[['price_outbound','price_inbound']].min().reset_index()"
   ]
  },
  {
   "cell_type": "code",
   "execution_count": 990,
   "metadata": {},
   "outputs": [],
   "source": [
    "Data_comp_oneway=Data.loc[(Data['carrier']!='LG')&(Data['is_one_way']==1),\n",
    "['carrier','origin','destination','min_stay','outbound_departure_time','outbound_departure_date','price_exc','price_outbound']]\n",
    "Data_comp_oneway['price_exc']=Data_comp_oneway[['price_exc','price_outbound']].apply(lambda x: x[1] if pd.isnull(x[0]) else x[0],axis=1)\n",
    "Data_comp_oneway=Data_comp_oneway[[x for x in Data_comp_oneway.columns if x!='price_outbound']]\n",
    "Data_comp_oneway=Data_comp_oneway.rename(columns={'price_exc': 'price_outbound'})\n",
    "Data_comp_oneway['min_stay']='one way'\n",
    "Data_comp_oneway=Data_comp_oneway\\\n",
    ".groupby(['carrier','origin','destination','min_stay','outbound_departure_time','outbound_departure_date'])['price_outbound'].min().reset_index()\n",
    "\n",
    "Data_comp_twoway=Data.loc[(Data['carrier']!='LG')&(Data['is_one_way']==0),\n",
    "['carrier','origin','destination','min_stay','outbound_departure_time','inbound_departure_time','outbound_departure_date','price_outbound','price_inbound']]\n",
    "Data_comp_twoway=Data_comp_twoway\\\n",
    ".groupby(['carrier','origin','destination','min_stay','outbound_departure_time','inbound_departure_time','outbound_departure_date'])[['price_outbound','price_inbound']].min().reset_index()"
   ]
  },
  {
   "cell_type": "code",
   "execution_count": 991,
   "metadata": {},
   "outputs": [],
   "source": [
    "Data_oneway=Data_lg_oneway.merge(Data_comp_oneway,on=['origin','destination','min_stay','outbound_departure_date'],how='left')\n",
    "\n",
    "Data_oneway['outbound_departure_time_x']=Data_oneway['outbound_departure_time_x']\\\n",
    ".apply(lambda x: datetime.datetime.strptime('1970-01-01'+' '+x,'%Y-%m-%d %H:%M'))\n",
    "Data_oneway['outbound_departure_time_y']=Data_oneway['outbound_departure_time_y']\\\n",
    ".apply(lambda x: datetime.datetime.strptime('1970-01-01'+' '+x,'%Y-%m-%d %H:%M'))\n",
    "\n",
    "Data_oneway['outbound_time_diff']=(Data_oneway['outbound_departure_time_x']-Data_oneway['outbound_departure_time_y']).apply(lambda x:np.abs(x.total_seconds()))\n",
    "\n",
    "Data_oneway['outbound_time_diffmin']=Data_oneway.groupby(['carrier','origin','destination','min_stay','outbound_departure_time_x','outbound_departure_date'])['outbound_time_diff'].transform('min')\n",
    "\n",
    "Data_oneway=Data_oneway.loc[Data_oneway['outbound_time_diff']==Data_oneway['outbound_time_diffmin'],:]\n",
    "Data_oneway=Data_oneway.drop_duplicates(subset=['carrier','origin','destination','min_stay','outbound_departure_time_x','outbound_departure_date'])\n",
    "\n",
    "Data_oneway['price_outbound_y']=Data_oneway[['price_outbound_y','outbound_time_diff']].apply(lambda x: np.nan if x[1]>3600 else x[0],axis=1)\n",
    "\n",
    "Data_oneway=Data_oneway.rename(columns={'price_outbound_x': 'price_outbound_lg', 'price_outbound_y': 'price_outbound_comp',\n",
    "                                       'outbound_departure_time_x': 'outbound_departure_time_lg'})\n",
    "\n",
    "Data_oneway=Data_oneway[[x for x in Data_oneway.columns if '_y' not in x and '_x' not in x and '_diff' not in x]]\n",
    "\n",
    "Data_oneway['outbound_departure_time_lg']=Data_oneway['outbound_departure_time_lg'].apply(lambda x: ':'.join(str(x).split(' ')[1].split(':')[0:2]))"
   ]
  },
  {
   "cell_type": "code",
   "execution_count": 992,
   "metadata": {},
   "outputs": [],
   "source": [
    "Data_twoway=Data_lg_twoway.merge(Data_comp_twoway,on=['origin','destination','min_stay','outbound_departure_date'],how='left')"
   ]
  },
  {
   "cell_type": "code",
   "execution_count": 993,
   "metadata": {},
   "outputs": [],
   "source": [
    "Data_twoway['outbound_departure_time_x']=Data_twoway['outbound_departure_time_x']\\\n",
    ".apply(lambda x: datetime.datetime.strptime('1970-01-01'+' '+x,'%Y-%m-%d %H:%M'))\n",
    "Data_twoway['outbound_departure_time_y']=Data_twoway['outbound_departure_time_y']\\\n",
    ".apply(lambda x: datetime.datetime.strptime('1970-01-01'+' '+x,'%Y-%m-%d %H:%M'))\n",
    "Data_twoway['inbound_departure_time_x']=Data_twoway['inbound_departure_time_x']\\\n",
    ".apply(lambda x: datetime.datetime.strptime('1970-01-01'+' '+x,'%Y-%m-%d %H:%M'))\n",
    "Data_twoway['inbound_departure_time_y']=Data_twoway['inbound_departure_time_y']\\\n",
    ".apply(lambda x: datetime.datetime.strptime('1970-01-01'+' '+x,'%Y-%m-%d %H:%M'))"
   ]
  },
  {
   "cell_type": "code",
   "execution_count": 994,
   "metadata": {},
   "outputs": [],
   "source": [
    "Data_twoway['outbound_time_diff']=(Data_twoway['outbound_departure_time_x']-Data_twoway['outbound_departure_time_y']).apply(lambda x:np.abs(x.total_seconds()))\n",
    "Data_twoway['inbound_time_diff']=(Data_twoway['inbound_departure_time_x']-Data_twoway['inbound_departure_time_y']).apply(lambda x:np.abs(x.total_seconds()))"
   ]
  },
  {
   "cell_type": "code",
   "execution_count": 995,
   "metadata": {},
   "outputs": [],
   "source": [
    "Data_twoway['time_diff']=Data_twoway['outbound_time_diff']+Data_twoway['inbound_time_diff']"
   ]
  },
  {
   "cell_type": "code",
   "execution_count": 996,
   "metadata": {},
   "outputs": [],
   "source": [
    "Data_twoway['time_diffmin']=Data_twoway.groupby(['carrier','origin','destination','min_stay','outbound_departure_time_x',\n",
    "'inbound_departure_time_x','outbound_departure_date'])['time_diff'].transform('min')"
   ]
  },
  {
   "cell_type": "code",
   "execution_count": 997,
   "metadata": {},
   "outputs": [],
   "source": [
    "Data_twoway=Data_twoway.loc[Data_twoway['time_diff']==Data_twoway['time_diffmin'],:]\n",
    "Data_twoway=Data_twoway.drop_duplicates(subset=['carrier','origin','destination','min_stay','outbound_departure_time_x',\n",
    "'inbound_departure_time_x','outbound_departure_date'])"
   ]
  },
  {
   "cell_type": "code",
   "execution_count": 998,
   "metadata": {},
   "outputs": [],
   "source": [
    "Data_twoway['price_outbound_y']=Data_twoway[['price_outbound_y','time_diff']].apply(lambda x: np.nan if x[1]>7200 else x[0],axis=1)\n",
    "Data_twoway['price_inbound_y']=Data_twoway[['price_inbound_y','time_diff']].apply(lambda x: np.nan if x[1]>7200 else x[0],axis=1)"
   ]
  },
  {
   "cell_type": "code",
   "execution_count": 999,
   "metadata": {},
   "outputs": [],
   "source": [
    "Data_twoway=Data_twoway.rename(columns={'price_outbound_x': 'price_outbound_lg', 'price_outbound_y': 'price_outbound_comp',\n",
    "                                       'price_inbound_x': 'price_inbound_lg', 'price_inbound_y': 'price_inbound_comp',\n",
    "                                       'outbound_departure_time_x': 'outbound_departure_time_lg',\n",
    "                                       'inbound_departure_time_x': 'inbound_departure_time_lg'})\n",
    "\n",
    "Data_twoway=Data_twoway[[x for x in Data_twoway.columns if '_y' not in x and '_x' not in x and '_diff' not in x]]\n",
    "\n",
    "Data_twoway['outbound_departure_time_lg']=Data_twoway['outbound_departure_time_lg'].apply(lambda x: ':'.join(str(x).split(' ')[1].split(':')[0:2]))\n",
    "Data_twoway['inbound_departure_time_lg']=Data_twoway['inbound_departure_time_lg'].apply(lambda x: ':'.join(str(x).split(' ')[1].split(':')[0:2]))"
   ]
  },
  {
   "cell_type": "code",
   "execution_count": 1000,
   "metadata": {},
   "outputs": [],
   "source": [
    "Data_twoway['min_stay']=Data_twoway['min_stay'].apply(lambda x: str(x)+' days')"
   ]
  },
  {
   "cell_type": "code",
   "execution_count": 1001,
   "metadata": {},
   "outputs": [
    {
     "name": "stderr",
     "output_type": "stream",
     "text": [
      "C:\\Users\\35266\\AppData\\Local\\Continuum\\anaconda3\\lib\\site-packages\\ipykernel_launcher.py:1: FutureWarning:\n",
      "\n",
      "Sorting because non-concatenation axis is not aligned. A future version\n",
      "of pandas will change to not sort by default.\n",
      "\n",
      "To accept the future behavior, pass 'sort=False'.\n",
      "\n",
      "To retain the current behavior and silence the warning, pass 'sort=True'.\n",
      "\n",
      "\n"
     ]
    }
   ],
   "source": [
    "Data=pd.concat([Data_oneway,Data_twoway])"
   ]
  },
  {
   "cell_type": "code",
   "execution_count": 1002,
   "metadata": {},
   "outputs": [],
   "source": [
    "Data['inbound_departure_time_lg']=Data['inbound_departure_time_lg'].fillna('none')"
   ]
  },
  {
   "cell_type": "code",
   "execution_count": 1003,
   "metadata": {},
   "outputs": [],
   "source": [
    "Data['route']=Data['origin']+'-'+Data['destination']\n",
    "\n",
    "Data=Data[['route','min_stay','outbound_departure_time_lg','inbound_departure_time_lg',\n",
    "          'outbound_departure_date','price_outbound_lg','price_inbound_lg','carrier','price_outbound_comp','price_inbound_comp']]"
   ]
  },
  {
   "cell_type": "markdown",
   "metadata": {},
   "source": [
    "# Dash"
   ]
  },
  {
   "cell_type": "code",
   "execution_count": 1004,
   "metadata": {},
   "outputs": [],
   "source": [
    "external_stylesheets = ['https://codepen.io/chriddyp/pen/bWLwgP.css']"
   ]
  },
  {
   "cell_type": "code",
   "execution_count": 1005,
   "metadata": {},
   "outputs": [],
   "source": [
    "intermediate=Data[['route','min_stay','outbound_departure_time_lg','inbound_departure_time_lg']].drop_duplicates()\n",
    "checkbox_values=intermediate\\\n",
    ".sort_values(by=['route','min_stay','outbound_departure_time_lg','inbound_departure_time_lg']).transpose().values.tolist()"
   ]
  },
  {
   "cell_type": "code",
   "execution_count": 1006,
   "metadata": {},
   "outputs": [],
   "source": [
    "epoch = datetime.datetime.utcfromtimestamp(0)\n",
    "def unix_time_millis(dt):\n",
    "    return int((dt - epoch).total_seconds())#* 1000.0\n",
    "\n",
    "def get_marks_from_start_end(start, end):\n",
    "    ''' Returns dict with one item per month\n",
    "    {1440080188.1900003: '2015-08',\n",
    "    '''\n",
    "    result = []\n",
    "    current = start\n",
    "    while current <= end:\n",
    "        result.append(current)\n",
    "        current += relativedelta(hours=1)\n",
    "    return {unix_time_millis(m):(str(m.strftime('%H:%M'))) for m in result}\n",
    "\n",
    "def get_marks_from_start_end_2(seq):\n",
    "    ''' Returns dict with one item per month\n",
    "    {1440080188.1900003: '2015-08',\n",
    "    '''\n",
    "    return {unix_time_millis(m):(str(m.strftime('%H:%M'))) for m in seq}"
   ]
  },
  {
   "cell_type": "code",
   "execution_count": 1007,
   "metadata": {},
   "outputs": [],
   "source": [
    "# all_marks_out=get_marks_from_start_end(min(checkbox_values[2]),max(checkbox_values[2]))\n",
    "# all_marks_in=get_marks_from_start_end(min(checkbox_values[3]),max(checkbox_values[3]))\n",
    "\n",
    "# marks_lg=get_marks_from_start_end_2(Data.loc[Data['carrier']=='LG','outbound_departure_time'].drop_duplicates())\n",
    "# all_marks=dict(zip([x for x in all_marks.keys() if min([abs(x-y) for y in marks_lg.keys()])>5000],\n",
    "# [all_marks[x] for x in all_marks.keys() if min([abs(x-y) for y in marks_lg.keys()])>5000]))\n",
    "# all_marks.update(marks_lg)\n",
    "\n",
    "#all_marks=get_marks_from_start_end(min(checkbox_values[2]),max(checkbox_values[2]))\n",
    "#all_marks.update(get_marks_from_start_end_2(Data.loc[Data['carrier']=='LG','outbound_departure_time'].drop_duplicates()))\n",
    "#all_marks.update(get_marks_from_start_end_2(Data.loc[Data['carrier']=='LG','outbound_departure_time'].drop_duplicates()))"
   ]
  },
  {
   "cell_type": "code",
   "execution_count": 1008,
   "metadata": {},
   "outputs": [],
   "source": [
    "PAGE_SIZE = 20\n",
    "\n",
    "app = dash.Dash(__name__, external_stylesheets=external_stylesheets)\n",
    "\n",
    "app.layout = html.Div(children=[\n",
    "        html.Div([html.Div(style={'width': '10%', 'display': 'inline-block'}),\n",
    "        html.Img(src=app.get_asset_url('LuxairGroup.jpg'), \n",
    "              style = {'backgroundColor' : '#66b3cc','display': 'inline-block', 'vertical-align': 'middle', \n",
    "                       'width': '10%', 'height': '7em'}),\n",
    "        html.H4(children='Price Monitoring System',style={\n",
    "            'textAlign': 'center',\n",
    "            'color': 'black','height': '1em', 'display': 'inline-block', 'width': '64%'}),\n",
    "            html.Img(src=app.get_asset_url('Luxair.jpg'), \n",
    "              style = {'backgroundColor' : '#66b3cc','display': 'inline-block', 'vertical-align': 'middle',\n",
    "                       'width': '10%', 'height': '7em'}),\n",
    "        html.Div(style={'width': '10%', 'display': 'inline-block', 'vertical-align': 'middle'})\n",
    "                 ],\n",
    "        style={'margin-bottom': '-4em'})\n",
    "     ,\n",
    "    # ROUTE DROPDOWN AND DATE SLIDER\n",
    "    \n",
    "        # DROPDOWN\n",
    "    html.Div([html.Div(style={'width': '10%', 'margin-bottom': '1em', 'display': 'inline-block'}),\n",
    "    \n",
    "    html.Div([html.Div([html.Label('Route', style={'textAlign': 'center', 'font-weight': 'bold'}), \n",
    "    dcc.Dropdown(id = 'dropdown_route',\n",
    "    options=[],\n",
    "    placeholder=\"Select Route\",                                 \n",
    "    value='LUX-OPO',\n",
    "    multi=False)],\n",
    "    style={'margin-bottom': '0.5em', 'width': '50%', 'margin-left': '20em'})\n",
    "    ,\n",
    "    html.Div([html.Label('Minimum Stay', style={'textAlign': 'center', 'font-weight': 'bold'}), \n",
    "    dcc.Dropdown(id = 'dropdown_stay',\n",
    "    options=[],\n",
    "    placeholder=\"Select duration\",                                 \n",
    "    value='',\n",
    "    multi=False)],\n",
    "    style={'margin-bottom': '0.5em', 'width': '50%', 'margin-left': '20em'})\n",
    "    ,\n",
    "    html.Div([html.Div([html.Label('Outbound Departure Time', style={'textAlign': 'center', 'font-weight': 'bold'}), \n",
    "    dcc.Dropdown(id = 'dropdown_outtime',\n",
    "    options=[],\n",
    "    placeholder=\"Select departure time\",                                 \n",
    "    value='',\n",
    "    multi=False)],\n",
    "    style={'margin-bottom': '0.5em', 'width': '45%', 'margin-left': '2em', 'display': 'inline-block'})\n",
    "    ,\n",
    "    html.Div([html.Label('Inbound Departure Time', style={'textAlign': 'center', 'font-weight': 'bold'}), \n",
    "    dcc.Dropdown(id = 'dropdown_intime',\n",
    "    options=[],\n",
    "    placeholder=\"Select departure time\",                                 \n",
    "    value='',\n",
    "    multi=False)],\n",
    "    style={'margin-bottom': '0.5em', 'width': '45%', 'margin-left': '2em', 'display': 'inline-block'})],          \n",
    "    style={'margin-bottom': '0.5em', 'width': '90%', 'margin-left': '0em'})],\n",
    "    style={'width': '75%', 'margin-bottom': '1em', 'margin-top': '0','display': 'inline-block', 'background-color': 'lightgrey'}),\n",
    "    \n",
    "    html.Div(style={'width': '10%', 'margin-bottom': '0.5em', 'margin-top': '-3em', 'display': 'inline-block'})\n",
    "             ]),\n",
    "    # GRAPH CONTAINER                   \n",
    "    html.Div([html.Div([dcc.Graph(\n",
    "                    id='graph-outbound')],\n",
    "    style={'width': '45%', 'float': 'right', 'display': 'inline-block', 'margin-top': '0.5em'}),\n",
    "    html.Div([dcc.Graph(\n",
    "                    id='graph-inbound')],\n",
    "    style={'width': '45%', 'float': 'right', 'display': 'inline-block', 'margin-top': '0.5em'})\n",
    "             ])\n",
    "        ])"
   ]
  },
  {
   "cell_type": "code",
   "execution_count": 1009,
   "metadata": {},
   "outputs": [],
   "source": [
    "@app.callback(\n",
    "    Output(\"dropdown_route\", \"options\"),\n",
    "    [Input(\"dropdown_stay\", \"value\"),\n",
    "    Input(\"dropdown_outtime\", \"value\"),\n",
    "    Input(\"dropdown_intime\", \"value\")]\n",
    "    )\n",
    "def set_checklist_route(values_stay,values_outtime,values_intime):\n",
    "    subset=set([checkbox_values[0][i] for i in range(len(checkbox_values[0]))\\\n",
    "    if checkbox_values[1][i] in values_stay\\\n",
    "    and checkbox_values[2][i] in values_outtime\\\n",
    "    and checkbox_values[3][i] in values_intime])   \n",
    "    values=[{'label': i,'value': i} for i in sorted(subset)]\n",
    "    return values\n",
    "##########################################################\n",
    "\n",
    "@app.callback(\n",
    "    Output(\"dropdown_stay\", \"options\"),\n",
    "    [Input(\"dropdown_route\", \"value\"),\n",
    "    Input(\"dropdown_outtime\", \"value\"),\n",
    "    Input(\"dropdown_intime\", \"value\")]\n",
    "    )\n",
    "def set_checklist_stay(values_route,values_outtime,values_intime):\n",
    "    subset=set([checkbox_values[1][i] for i in range(len(checkbox_values[1]))\\\n",
    "    if checkbox_values[0][i] in values_route\\\n",
    "    and checkbox_values[2][i] in values_outtime\\\n",
    "    and checkbox_values[3][i] in values_intime])   \n",
    "    values=[{'label': i,'value': i} for i in sorted(subset)]\n",
    "    return values\n",
    "##########################################################\n",
    "\n",
    "@app.callback(\n",
    "    Output(\"dropdown_outtime\", \"options\"),\n",
    "    [Input(\"dropdown_route\", \"value\"),\n",
    "    Input(\"dropdown_stay\", \"value\"),\n",
    "    Input(\"dropdown_intime\", \"value\")]\n",
    "    )\n",
    "def set_checklist_outtime(values_route,values_stay,values_intime):\n",
    "    subset=set([checkbox_values[2][i] for i in range(len(checkbox_values[2]))\\\n",
    "    if checkbox_values[0][i] in values_route\\\n",
    "    and checkbox_values[1][i] in values_stay\\\n",
    "    and checkbox_values[3][i] in values_intime])   \n",
    "    values=[{'label': i,'value': i} for i in sorted(subset)]\n",
    "    return values\n",
    "##########################################################\n",
    "\n",
    "@app.callback(\n",
    "    Output(\"dropdown_intime\", \"options\"),\n",
    "    [Input(\"dropdown_route\", \"value\"),\n",
    "    Input(\"dropdown_stay\", \"value\"),\n",
    "    Input(\"dropdown_outtime\", \"value\")]\n",
    "    )\n",
    "def set_checklist_intime(values_route,values_stay,values_outtime):\n",
    "    subset=set([checkbox_values[3][i] for i in range(len(checkbox_values[3]))\\\n",
    "    if checkbox_values[0][i] in values_route\\\n",
    "    and checkbox_values[1][i] in values_stay\\\n",
    "    and checkbox_values[2][i] in values_outtime])   \n",
    "    values=[{'label': i,'value': i} for i in sorted(subset)]\n",
    "    return values\n",
    "##########################################################"
   ]
  },
  {
   "cell_type": "code",
   "execution_count": 1010,
   "metadata": {},
   "outputs": [
    {
     "name": "stdout",
     "output_type": "stream",
     "text": [
      " * Serving Flask app \"__main__\" (lazy loading)\n",
      " * Environment: production\n",
      "   WARNING: Do not use the development server in a production environment.\n",
      "   Use a production WSGI server instead.\n",
      " * Debug mode: off\n"
     ]
    },
    {
     "name": "stderr",
     "output_type": "stream",
     "text": [
      " * Running on http://localhost:4000/ (Press CTRL+C to quit)\n",
      "127.0.0.1 - - [26/Jun/2019 00:36:24] \"GET / HTTP/1.1\" 200 -\n",
      "127.0.0.1 - - [26/Jun/2019 00:36:24] \"GET /_dash-dependencies HTTP/1.1\" 200 -\n",
      "127.0.0.1 - - [26/Jun/2019 00:36:24] \"GET /_dash-layout HTTP/1.1\" 200 -\n",
      "127.0.0.1 - - [26/Jun/2019 00:36:25] \"POST /_dash-update-component HTTP/1.1\" 200 -\n",
      "127.0.0.1 - - [26/Jun/2019 00:36:25] \"POST /_dash-update-component HTTP/1.1\" 200 -\n",
      "127.0.0.1 - - [26/Jun/2019 00:36:25] \"POST /_dash-update-component HTTP/1.1\" 200 -\n",
      "127.0.0.1 - - [26/Jun/2019 00:36:25] \"POST /_dash-update-component HTTP/1.1\" 200 -\n",
      "127.0.0.1 - - [26/Jun/2019 00:36:25] \"GET /assets/LuxairGroup.jpg HTTP/1.1\" 404 -\n",
      "127.0.0.1 - - [26/Jun/2019 00:36:25] \"GET /assets/Luxair.jpg HTTP/1.1\" 404 -\n"
     ]
    }
   ],
   "source": [
    "if __name__ == '__main__':\n",
    "    #app.run_server(debug=False,host='10.0.0.8',port=port[analyst])\n",
    "    app.run_server(debug=False,host='localhost',port=4000)"
   ]
  },
  {
   "cell_type": "code",
   "execution_count": 259,
   "metadata": {},
   "outputs": [],
   "source": [
    "@app.callback(\n",
    "    Output(\"dropdown_stay\", \"options\"),\n",
    "    [Input(\"dropdown_route\", \"value\")]\n",
    "    )\n",
    "def set_checklist_stay(values_route):\n",
    "    \n",
    "    subset=set([checkbox_values[1][i] for i in range(len(checkbox_values[1]))\\\n",
    "    if checkbox_values[0][i]==values_route])   \n",
    "    values=[{'label': i,'value': i} for i in sorted(subset)]\n",
    "    return values\n",
    "##########################################################"
   ]
  },
  {
   "cell_type": "code",
   "execution_count": 260,
   "metadata": {},
   "outputs": [],
   "source": [
    "@app.callback(\n",
    "    Output(\"dropdown_outtime\", \"options\"),\n",
    "    [Input(\"dropdown_route\", \"value\"),\n",
    "    Input(\"dropdown_stay\", \"value\")]\n",
    "    )\n",
    "def set_checklist_outtime(values_route,values_stay):\n",
    "    \n",
    "    subset=set([checkbox_values[2][i] for i in range(len(checkbox_values[2]))\\\n",
    "    if checkbox_values[0][i]==values_route\\\n",
    "    and checkbox_values[1][i]==values_stay\\\n",
    "    and checkbox_values[4][i]=='LG'])   \n",
    "    values=[{'label': i,'value': i} for i in sorted(subset)]\n",
    "    return values\n",
    "##########################################################"
   ]
  },
  {
   "cell_type": "code",
   "execution_count": 261,
   "metadata": {},
   "outputs": [],
   "source": [
    "@app.callback(\n",
    "    Output(\"dropdown_intime\", \"options\"),\n",
    "    [Input(\"dropdown_route\", \"value\"),\n",
    "    Input(\"dropdown_stay\", \"value\")\n",
    "    #,\n",
    "    #Input(\"dropdown_outtime\", \"value\")\n",
    "    ]\n",
    "    )\n",
    "def set_checklist_intime(values_route,values_stay):\n",
    "                         #,values_outtime):\n",
    "    \n",
    "    subset=set([checkbox_values[3][i] for i in range(len(checkbox_values[3]))\\\n",
    "    if checkbox_values[0][i]==values_route\\\n",
    "    and checkbox_values[1][i]==values_stay\\\n",
    "    #and checkbox_values[2][i]==values_outtime\\\n",
    "    and checkbox_values[4][i]=='LG'])   \n",
    "    values=[{'label': i,'value': i} for i in sorted(subset)]\n",
    "    return values\n",
    "##########################################################"
   ]
  },
  {
   "cell_type": "code",
   "execution_count": 262,
   "metadata": {},
   "outputs": [],
   "source": [
    "@app.callback(\n",
    "    [Output(\"slider_outtime\", \"min\"),\n",
    "    Output(\"slider_outtime\", \"max\"),\n",
    "    Output(\"slider_outtime\", \"marks\")],\n",
    "    [Input(\"dropdown_route\", \"value\"),\n",
    "    Input(\"dropdown_stay\", \"value\")]\n",
    "    )\n",
    "def set_checklist_depdate(values_route,values_stay):\n",
    "    subset=set([checkbox_values[2][i] for i in range(len(checkbox_values[2]))\\\n",
    "    if checkbox_values[0][i]==values_route\\\n",
    "    and checkbox_values[1][i]==values_stay\\\n",
    "    #and checkbox_values[2][i]==values_outtime\\\n",
    "    #and checkbox_values[4][i]=='LG'\n",
    "    ])\n",
    "    minimum=min([unix_time_millis(x) for x in subset])\n",
    "    maximum=max([unix_time_millis(x) for x in subset])\n",
    "    value=[minimum,maximum]\n",
    "    marks=get_marks_from_start_end([x for x in subset if unix_time_millis(x)==minimum][0],\n",
    "                                   [x for x in subset if unix_time_millis(x)==maximum][0])\n",
    "    return minimum, maximum, marks"
   ]
  },
  {
   "cell_type": "code",
   "execution_count": 263,
   "metadata": {},
   "outputs": [],
   "source": [
    "colors_carrier=dict(zip(Data['carrier'].unique(),['yellow','blue','red','orange']))\n",
    "line_inout=dict(zip(['price_outbound_min','price_outbound_min'],['dash','dot']))"
   ]
  },
  {
   "cell_type": "code",
   "execution_count": null,
   "metadata": {},
   "outputs": [],
   "source": [
    "@app.callback(Output('graph-outbound', 'figure'),\n",
    "     #,\n",
    "     # Output('graph', 'figure')\n",
    "    [Input('dropdown_route', 'value'),\n",
    "    Input('dropdown_stay', 'value'),\n",
    "    Input('dropdown_outtime', 'value')]\n",
    "    )\n",
    "def update_plot(value_route, value_stay, value_outtime):\n",
    "    \n",
    "    dff_plot = Data.loc[(Data['route']=='value_route')\\\n",
    "                   &Data['value_stay']==''.apply(lambda x: unix_time_millis(x)>=values_deptime[0] and unix_time_millis(x)<=values_deptime[1])\\\n",
    "                   &Data['min_stay'].apply(lambda x: x in values_stay),:].sort_values(by=['outbound_departure_date'])\n",
    "    carriers=dff_plot['carrier'].unique()\n",
    "    \n",
    "    traces = []\n",
    "        \n",
    "    for i in ['price_outbound_min','price_inbound_min']:\n",
    "        for j in carriers:\n",
    "            traces.append(go.Scatter(\n",
    "               x=dff_plot.loc[dff_plot['carrier']==j,'outbound_departure_date'].tolist(),\n",
    "               y=dff_plot.loc[dff_plot['carrier']==j,i].tolist(),\n",
    "               mode = 'lines',\n",
    "               name = j+'/'+i,\n",
    "               line = dict(\n",
    "               dash = line_inout[i],\n",
    "               color =colors_carrier[j],\n",
    "               width = 2\n",
    "                 )\n",
    "            ))\n",
    "   \n",
    "        return {'data': traces, 'layout': \n",
    "        go.Layout(title=go.layout.Title(\n",
    "        text='tst',\n",
    "        xref='paper',\n",
    "        x=0.5),\n",
    "        #xaxis={'title': 'Days prior to departure', 'range': [0, 365]},\n",
    "        #yaxis={'title': 'Bid Price', 'range': [0,dff_plot['price_exc_min'].max()+5]},\n",
    "        height=600)}\n",
    "    else:   \n",
    "        return {'data': []}         "
   ]
  },
  {
   "cell_type": "code",
   "execution_count": null,
   "metadata": {},
   "outputs": [],
   "source": [
    "@app.callback(Output('graph-inbound', 'figure'),\n",
    "     #,\n",
    "     # Output('graph', 'figure')\n",
    "    [Input('dropdown_route', 'value'),\n",
    "    Input('deptime_RangeSlider', 'value'),\n",
    "    Input('dropdown_stay', 'value')]\n",
    "    )\n",
    "def update_plot(values_route, values_deptime, values_stay):\n",
    "    \n",
    "    dff_plot = Data.loc[Data['route'].apply(lambda x: x in values_route)\\\n",
    "                   &Data['outbound_departure_time'].apply(lambda x: unix_time_millis(x)>=values_deptime[0] and unix_time_millis(x)<=values_deptime[1])\\\n",
    "                   &Data['min_stay'].apply(lambda x: x in values_stay),:].sort_values(by=['outbound_departure_date'])\n",
    "    carriers=dff_plot['carrier'].unique()\n",
    "    \n",
    "    traces = []\n",
    "        \n",
    "    for i in ['price_outbound_min','price_inbound_min']:\n",
    "        for j in carriers:\n",
    "            traces.append(go.Scatter(\n",
    "               x=dff_plot.loc[dff_plot['carrier']==j,'outbound_departure_date'].tolist(),\n",
    "               y=dff_plot.loc[dff_plot['carrier']==j,i].tolist(),\n",
    "               mode = 'lines',\n",
    "               name = j+'/'+i,\n",
    "               line = dict(\n",
    "               dash = line_inout[i],\n",
    "               color =colors_carrier[j],\n",
    "               width = 2\n",
    "                 )\n",
    "            ))\n",
    "   \n",
    "        return {'data': traces, 'layout': \n",
    "        go.Layout(title=go.layout.Title(\n",
    "        text='tst',\n",
    "        xref='paper',\n",
    "        x=0.5),\n",
    "        #xaxis={'title': 'Days prior to departure', 'range': [0, 365]},\n",
    "        #yaxis={'title': 'Bid Price', 'range': [0,dff_plot['price_exc_min'].max()+5]},\n",
    "        height=600)}\n",
    "    else:   \n",
    "        return {'data': []}         "
   ]
  },
  {
   "cell_type": "code",
   "execution_count": null,
   "metadata": {},
   "outputs": [],
   "source": [
    "if __name__ == '__main__':\n",
    "    #app.run_server(debug=False,host='10.0.0.8',port=port[analyst])\n",
    "    app.run_server(debug=False,host='localhost',port=4000)"
   ]
  }
 ],
 "metadata": {
  "kernelspec": {
   "display_name": "Python 3",
   "language": "python",
   "name": "python3"
  },
  "language_info": {
   "codemirror_mode": {
    "name": "ipython",
    "version": 3
   },
   "file_extension": ".py",
   "mimetype": "text/x-python",
   "name": "python",
   "nbconvert_exporter": "python",
   "pygments_lexer": "ipython3",
   "version": "3.7.1"
  }
 },
 "nbformat": 4,
 "nbformat_minor": 2
}
